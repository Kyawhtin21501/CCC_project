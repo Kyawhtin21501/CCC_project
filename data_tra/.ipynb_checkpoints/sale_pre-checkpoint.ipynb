{
 "cells": [
  {
   "cell_type": "code",
   "execution_count": null,
   "id": "fa94e606-d80b-485f-9a75-2f97c2e1396f",
   "metadata": {},
   "outputs": [],
   "source": [
    "import pandas as pd\n",
    "import numpy as np\n",
    "from sklearn.ensemble import RandomForestRegressor\n",
    "from sklearn.pipeline import Pipeline\n",
    "from sklearn.preprocessing import StandardScaler, OneHotEncoder\n",
    "from sklearn.compose import ColumnTransformer\n",
    "import joblib\n",
    "\n",
    "\n",
    "data = pd.read_csv(\"../data/main_data/project.csv\")\n",
    "\n",
    "data[\"is_festival\"] = data[\"is_festival\"].apply(lambda x: 1 if x else 0)\n",
    "data[\"sale_per_guest\"] = data[\"sales\"] / data[\"guests\"]\n",
    "\n",
    "\n",
    "X = data[[\"weekday\",\"guests\",\"total_staff_level\",\"staff_count\",\"sale_per_guest\"]]\n",
    "y = data[\"sales\"]\n",
    "\n",
    "\n",
    "numeric_features = [ \"guests\", \"total_staff_level\", \"staff_count\",\"sale_per_guest\"]\n",
    "categorical_features = [\"weekday\"]\n",
    "\n",
    "\n",
    "preprocessor = ColumnTransformer(\n",
    "    transformers=[\n",
    "        ('num', StandardScaler(), numeric_features),\n",
    "        ('cat', OneHotEncoder(handle_unknown='ignore'), categorical_features)\n",
    "    ]\n",
    ")\n",
    "\n",
    "\n",
    "sale_pre_model = Pipeline(steps=[\n",
    "        ('preprocessing', preprocessor),\n",
    "        (\"RandomForest\", RandomForestRegressor(n_estimators=100, random_state=42))\n",
    "    ])\n",
    "\n",
    "\n",
    "sale_pre_model.fit(X, y)\n",
    "\n",
    "joblib.dump(sale_pre_model,\"sales_model.pkl\")"
   ]
  }
 ],
 "metadata": {
  "kernelspec": {
   "display_name": "Python 3 (ipykernel)",
   "language": "python",
   "name": "python3"
  },
  "language_info": {
   "codemirror_mode": {
    "name": "ipython",
    "version": 3
   },
   "file_extension": ".py",
   "mimetype": "text/x-python",
   "name": "python",
   "nbconvert_exporter": "python",
   "pygments_lexer": "ipython3",
   "version": "3.12.6"
  }
 },
 "nbformat": 4,
 "nbformat_minor": 5
}
