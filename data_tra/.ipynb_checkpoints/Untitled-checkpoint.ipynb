{
 "cells": [
  {
   "cell_type": "code",
   "execution_count": 106,
   "id": "8c858025-adaa-46fb-aa0a-7140cc56564c",
   "metadata": {},
   "outputs": [],
   "source": [
    "import pulp\n",
    "import pandas as pd\n",
    "from pulp import LpMaximize, LpProblem, LpVariable, LpBinary ,LpMinimize,lpSum\n",
    "import random\n",
    "from datetime import datetime"
   ]
  },
  {
   "cell_type": "code",
   "execution_count": 159,
   "id": "8b797501-0aba-4627-b93a-7226b4c2dfa1",
   "metadata": {},
   "outputs": [
    {
     "ename": "FileNotFoundError",
     "evalue": "[Errno 2] No such file or directory: '../data/shift_dataBase_testing.csv'",
     "output_type": "error",
     "traceback": [
      "\u001b[31m---------------------------------------------------------------------------\u001b[39m",
      "\u001b[31mFileNotFoundError\u001b[39m                         Traceback (most recent call last)",
      "\u001b[36mCell\u001b[39m\u001b[36m \u001b[39m\u001b[32mIn[159]\u001b[39m\u001b[32m, line 1\u001b[39m\n\u001b[32m----> \u001b[39m\u001b[32m1\u001b[39m df = \u001b[43mpd\u001b[49m\u001b[43m.\u001b[49m\u001b[43mread_csv\u001b[49m\u001b[43m(\u001b[49m\u001b[33;43m\"\u001b[39;49m\u001b[33;43m../data/shift_dataBase_testing.csv\u001b[39;49m\u001b[33;43m\"\u001b[39;49m\u001b[43m,\u001b[49m\u001b[43m \u001b[49m\u001b[43mconverters\u001b[49m\u001b[43m=\u001b[49m\u001b[43m{\u001b[49m\u001b[33;43m\"\u001b[39;49m\u001b[33;43mstaff_level\u001b[39;49m\u001b[33;43m\"\u001b[39;49m\u001b[43m:\u001b[49m\u001b[43m \u001b[49m\u001b[38;5;28;43meval\u001b[39;49m\u001b[43m}\u001b[49m\u001b[43m)\u001b[49m \n\u001b[32m      3\u001b[39m df.head()\n\u001b[32m      5\u001b[39m staff = df[\u001b[33m\"\u001b[39m\u001b[33mname\u001b[39m\u001b[33m\"\u001b[39m].unique()\n",
      "\u001b[36mFile \u001b[39m\u001b[32m/Library/Frameworks/Python.framework/Versions/3.12/lib/python3.12/site-packages/pandas/io/parsers/readers.py:1026\u001b[39m, in \u001b[36mread_csv\u001b[39m\u001b[34m(filepath_or_buffer, sep, delimiter, header, names, index_col, usecols, dtype, engine, converters, true_values, false_values, skipinitialspace, skiprows, skipfooter, nrows, na_values, keep_default_na, na_filter, verbose, skip_blank_lines, parse_dates, infer_datetime_format, keep_date_col, date_parser, date_format, dayfirst, cache_dates, iterator, chunksize, compression, thousands, decimal, lineterminator, quotechar, quoting, doublequote, escapechar, comment, encoding, encoding_errors, dialect, on_bad_lines, delim_whitespace, low_memory, memory_map, float_precision, storage_options, dtype_backend)\u001b[39m\n\u001b[32m   1013\u001b[39m kwds_defaults = _refine_defaults_read(\n\u001b[32m   1014\u001b[39m     dialect,\n\u001b[32m   1015\u001b[39m     delimiter,\n\u001b[32m   (...)\u001b[39m\u001b[32m   1022\u001b[39m     dtype_backend=dtype_backend,\n\u001b[32m   1023\u001b[39m )\n\u001b[32m   1024\u001b[39m kwds.update(kwds_defaults)\n\u001b[32m-> \u001b[39m\u001b[32m1026\u001b[39m \u001b[38;5;28;01mreturn\u001b[39;00m \u001b[43m_read\u001b[49m\u001b[43m(\u001b[49m\u001b[43mfilepath_or_buffer\u001b[49m\u001b[43m,\u001b[49m\u001b[43m \u001b[49m\u001b[43mkwds\u001b[49m\u001b[43m)\u001b[49m\n",
      "\u001b[36mFile \u001b[39m\u001b[32m/Library/Frameworks/Python.framework/Versions/3.12/lib/python3.12/site-packages/pandas/io/parsers/readers.py:620\u001b[39m, in \u001b[36m_read\u001b[39m\u001b[34m(filepath_or_buffer, kwds)\u001b[39m\n\u001b[32m    617\u001b[39m _validate_names(kwds.get(\u001b[33m\"\u001b[39m\u001b[33mnames\u001b[39m\u001b[33m\"\u001b[39m, \u001b[38;5;28;01mNone\u001b[39;00m))\n\u001b[32m    619\u001b[39m \u001b[38;5;66;03m# Create the parser.\u001b[39;00m\n\u001b[32m--> \u001b[39m\u001b[32m620\u001b[39m parser = \u001b[43mTextFileReader\u001b[49m\u001b[43m(\u001b[49m\u001b[43mfilepath_or_buffer\u001b[49m\u001b[43m,\u001b[49m\u001b[43m \u001b[49m\u001b[43m*\u001b[49m\u001b[43m*\u001b[49m\u001b[43mkwds\u001b[49m\u001b[43m)\u001b[49m\n\u001b[32m    622\u001b[39m \u001b[38;5;28;01mif\u001b[39;00m chunksize \u001b[38;5;129;01mor\u001b[39;00m iterator:\n\u001b[32m    623\u001b[39m     \u001b[38;5;28;01mreturn\u001b[39;00m parser\n",
      "\u001b[36mFile \u001b[39m\u001b[32m/Library/Frameworks/Python.framework/Versions/3.12/lib/python3.12/site-packages/pandas/io/parsers/readers.py:1620\u001b[39m, in \u001b[36mTextFileReader.__init__\u001b[39m\u001b[34m(self, f, engine, **kwds)\u001b[39m\n\u001b[32m   1617\u001b[39m     \u001b[38;5;28mself\u001b[39m.options[\u001b[33m\"\u001b[39m\u001b[33mhas_index_names\u001b[39m\u001b[33m\"\u001b[39m] = kwds[\u001b[33m\"\u001b[39m\u001b[33mhas_index_names\u001b[39m\u001b[33m\"\u001b[39m]\n\u001b[32m   1619\u001b[39m \u001b[38;5;28mself\u001b[39m.handles: IOHandles | \u001b[38;5;28;01mNone\u001b[39;00m = \u001b[38;5;28;01mNone\u001b[39;00m\n\u001b[32m-> \u001b[39m\u001b[32m1620\u001b[39m \u001b[38;5;28mself\u001b[39m._engine = \u001b[38;5;28;43mself\u001b[39;49m\u001b[43m.\u001b[49m\u001b[43m_make_engine\u001b[49m\u001b[43m(\u001b[49m\u001b[43mf\u001b[49m\u001b[43m,\u001b[49m\u001b[43m \u001b[49m\u001b[38;5;28;43mself\u001b[39;49m\u001b[43m.\u001b[49m\u001b[43mengine\u001b[49m\u001b[43m)\u001b[49m\n",
      "\u001b[36mFile \u001b[39m\u001b[32m/Library/Frameworks/Python.framework/Versions/3.12/lib/python3.12/site-packages/pandas/io/parsers/readers.py:1880\u001b[39m, in \u001b[36mTextFileReader._make_engine\u001b[39m\u001b[34m(self, f, engine)\u001b[39m\n\u001b[32m   1878\u001b[39m     \u001b[38;5;28;01mif\u001b[39;00m \u001b[33m\"\u001b[39m\u001b[33mb\u001b[39m\u001b[33m\"\u001b[39m \u001b[38;5;129;01mnot\u001b[39;00m \u001b[38;5;129;01min\u001b[39;00m mode:\n\u001b[32m   1879\u001b[39m         mode += \u001b[33m\"\u001b[39m\u001b[33mb\u001b[39m\u001b[33m\"\u001b[39m\n\u001b[32m-> \u001b[39m\u001b[32m1880\u001b[39m \u001b[38;5;28mself\u001b[39m.handles = \u001b[43mget_handle\u001b[49m\u001b[43m(\u001b[49m\n\u001b[32m   1881\u001b[39m \u001b[43m    \u001b[49m\u001b[43mf\u001b[49m\u001b[43m,\u001b[49m\n\u001b[32m   1882\u001b[39m \u001b[43m    \u001b[49m\u001b[43mmode\u001b[49m\u001b[43m,\u001b[49m\n\u001b[32m   1883\u001b[39m \u001b[43m    \u001b[49m\u001b[43mencoding\u001b[49m\u001b[43m=\u001b[49m\u001b[38;5;28;43mself\u001b[39;49m\u001b[43m.\u001b[49m\u001b[43moptions\u001b[49m\u001b[43m.\u001b[49m\u001b[43mget\u001b[49m\u001b[43m(\u001b[49m\u001b[33;43m\"\u001b[39;49m\u001b[33;43mencoding\u001b[39;49m\u001b[33;43m\"\u001b[39;49m\u001b[43m,\u001b[49m\u001b[43m \u001b[49m\u001b[38;5;28;43;01mNone\u001b[39;49;00m\u001b[43m)\u001b[49m\u001b[43m,\u001b[49m\n\u001b[32m   1884\u001b[39m \u001b[43m    \u001b[49m\u001b[43mcompression\u001b[49m\u001b[43m=\u001b[49m\u001b[38;5;28;43mself\u001b[39;49m\u001b[43m.\u001b[49m\u001b[43moptions\u001b[49m\u001b[43m.\u001b[49m\u001b[43mget\u001b[49m\u001b[43m(\u001b[49m\u001b[33;43m\"\u001b[39;49m\u001b[33;43mcompression\u001b[39;49m\u001b[33;43m\"\u001b[39;49m\u001b[43m,\u001b[49m\u001b[43m \u001b[49m\u001b[38;5;28;43;01mNone\u001b[39;49;00m\u001b[43m)\u001b[49m\u001b[43m,\u001b[49m\n\u001b[32m   1885\u001b[39m \u001b[43m    \u001b[49m\u001b[43mmemory_map\u001b[49m\u001b[43m=\u001b[49m\u001b[38;5;28;43mself\u001b[39;49m\u001b[43m.\u001b[49m\u001b[43moptions\u001b[49m\u001b[43m.\u001b[49m\u001b[43mget\u001b[49m\u001b[43m(\u001b[49m\u001b[33;43m\"\u001b[39;49m\u001b[33;43mmemory_map\u001b[39;49m\u001b[33;43m\"\u001b[39;49m\u001b[43m,\u001b[49m\u001b[43m \u001b[49m\u001b[38;5;28;43;01mFalse\u001b[39;49;00m\u001b[43m)\u001b[49m\u001b[43m,\u001b[49m\n\u001b[32m   1886\u001b[39m \u001b[43m    \u001b[49m\u001b[43mis_text\u001b[49m\u001b[43m=\u001b[49m\u001b[43mis_text\u001b[49m\u001b[43m,\u001b[49m\n\u001b[32m   1887\u001b[39m \u001b[43m    \u001b[49m\u001b[43merrors\u001b[49m\u001b[43m=\u001b[49m\u001b[38;5;28;43mself\u001b[39;49m\u001b[43m.\u001b[49m\u001b[43moptions\u001b[49m\u001b[43m.\u001b[49m\u001b[43mget\u001b[49m\u001b[43m(\u001b[49m\u001b[33;43m\"\u001b[39;49m\u001b[33;43mencoding_errors\u001b[39;49m\u001b[33;43m\"\u001b[39;49m\u001b[43m,\u001b[49m\u001b[43m \u001b[49m\u001b[33;43m\"\u001b[39;49m\u001b[33;43mstrict\u001b[39;49m\u001b[33;43m\"\u001b[39;49m\u001b[43m)\u001b[49m\u001b[43m,\u001b[49m\n\u001b[32m   1888\u001b[39m \u001b[43m    \u001b[49m\u001b[43mstorage_options\u001b[49m\u001b[43m=\u001b[49m\u001b[38;5;28;43mself\u001b[39;49m\u001b[43m.\u001b[49m\u001b[43moptions\u001b[49m\u001b[43m.\u001b[49m\u001b[43mget\u001b[49m\u001b[43m(\u001b[49m\u001b[33;43m\"\u001b[39;49m\u001b[33;43mstorage_options\u001b[39;49m\u001b[33;43m\"\u001b[39;49m\u001b[43m,\u001b[49m\u001b[43m \u001b[49m\u001b[38;5;28;43;01mNone\u001b[39;49;00m\u001b[43m)\u001b[49m\u001b[43m,\u001b[49m\n\u001b[32m   1889\u001b[39m \u001b[43m\u001b[49m\u001b[43m)\u001b[49m\n\u001b[32m   1890\u001b[39m \u001b[38;5;28;01massert\u001b[39;00m \u001b[38;5;28mself\u001b[39m.handles \u001b[38;5;129;01mis\u001b[39;00m \u001b[38;5;129;01mnot\u001b[39;00m \u001b[38;5;28;01mNone\u001b[39;00m\n\u001b[32m   1891\u001b[39m f = \u001b[38;5;28mself\u001b[39m.handles.handle\n",
      "\u001b[36mFile \u001b[39m\u001b[32m/Library/Frameworks/Python.framework/Versions/3.12/lib/python3.12/site-packages/pandas/io/common.py:873\u001b[39m, in \u001b[36mget_handle\u001b[39m\u001b[34m(path_or_buf, mode, encoding, compression, memory_map, is_text, errors, storage_options)\u001b[39m\n\u001b[32m    868\u001b[39m \u001b[38;5;28;01melif\u001b[39;00m \u001b[38;5;28misinstance\u001b[39m(handle, \u001b[38;5;28mstr\u001b[39m):\n\u001b[32m    869\u001b[39m     \u001b[38;5;66;03m# Check whether the filename is to be opened in binary mode.\u001b[39;00m\n\u001b[32m    870\u001b[39m     \u001b[38;5;66;03m# Binary mode does not support 'encoding' and 'newline'.\u001b[39;00m\n\u001b[32m    871\u001b[39m     \u001b[38;5;28;01mif\u001b[39;00m ioargs.encoding \u001b[38;5;129;01mand\u001b[39;00m \u001b[33m\"\u001b[39m\u001b[33mb\u001b[39m\u001b[33m\"\u001b[39m \u001b[38;5;129;01mnot\u001b[39;00m \u001b[38;5;129;01min\u001b[39;00m ioargs.mode:\n\u001b[32m    872\u001b[39m         \u001b[38;5;66;03m# Encoding\u001b[39;00m\n\u001b[32m--> \u001b[39m\u001b[32m873\u001b[39m         handle = \u001b[38;5;28;43mopen\u001b[39;49m\u001b[43m(\u001b[49m\n\u001b[32m    874\u001b[39m \u001b[43m            \u001b[49m\u001b[43mhandle\u001b[49m\u001b[43m,\u001b[49m\n\u001b[32m    875\u001b[39m \u001b[43m            \u001b[49m\u001b[43mioargs\u001b[49m\u001b[43m.\u001b[49m\u001b[43mmode\u001b[49m\u001b[43m,\u001b[49m\n\u001b[32m    876\u001b[39m \u001b[43m            \u001b[49m\u001b[43mencoding\u001b[49m\u001b[43m=\u001b[49m\u001b[43mioargs\u001b[49m\u001b[43m.\u001b[49m\u001b[43mencoding\u001b[49m\u001b[43m,\u001b[49m\n\u001b[32m    877\u001b[39m \u001b[43m            \u001b[49m\u001b[43merrors\u001b[49m\u001b[43m=\u001b[49m\u001b[43merrors\u001b[49m\u001b[43m,\u001b[49m\n\u001b[32m    878\u001b[39m \u001b[43m            \u001b[49m\u001b[43mnewline\u001b[49m\u001b[43m=\u001b[49m\u001b[33;43m\"\u001b[39;49m\u001b[33;43m\"\u001b[39;49m\u001b[43m,\u001b[49m\n\u001b[32m    879\u001b[39m \u001b[43m        \u001b[49m\u001b[43m)\u001b[49m\n\u001b[32m    880\u001b[39m     \u001b[38;5;28;01melse\u001b[39;00m:\n\u001b[32m    881\u001b[39m         \u001b[38;5;66;03m# Binary mode\u001b[39;00m\n\u001b[32m    882\u001b[39m         handle = \u001b[38;5;28mopen\u001b[39m(handle, ioargs.mode)\n",
      "\u001b[31mFileNotFoundError\u001b[39m: [Errno 2] No such file or directory: '../data/shift_dataBase_testing.csv'"
     ]
    }
   ],
   "source": [
    "df = pd.read_csv(\"../data/shift_dataBase_testing.csv\", converters={\"staff_level\": eval}) \n",
    "\n",
    "df.head()\n",
    "\n",
    "staff = df[\"name\"].unique()\n",
    "\n",
    "\n",
    "staff_level_dict = {name: random.randint(1, 5) for name in staff}\n",
    "staff_status_list = [\"International Student\", \"High school student\", \"Fulltime\", \"Part Time\"]\n",
    "\n",
    "df[\"staff_level\"] = df[\"name\"].map(staff_level_dict)\n",
    "df[\"staff_status\"] = df[\"name\"].map(staff_status_dict)\n",
    "\n",
    "\n",
    "print(staff_level_dict)\n",
    "display(df.head())\n",
    "\n",
    "df = df.sort_values(by=\"date\")\n",
    "df[\"date\"] = pd.to_datetime(df[\"date\"])\n",
    "\n"
   ]
  },
  {
   "cell_type": "code",
   "execution_count": 108,
   "id": "85e6bc05-96af-4501-b0ca-36cb8c13638c",
   "metadata": {},
   "outputs": [
    {
     "name": "stdout",
     "output_type": "stream",
     "text": [
      "<class 'pandas.core.frame.DataFrame'>\n",
      "RangeIndex: 137 entries, 0 to 136\n",
      "Data columns (total 6 columns):\n",
      " #   Column     Non-Null Count  Dtype \n",
      "---  ------     --------------  ----- \n",
      " 0   ID         137 non-null    int64 \n",
      " 1   name       137 non-null    object\n",
      " 2   date       137 non-null    object\n",
      " 3   morning    137 non-null    bool  \n",
      " 4   afternoon  137 non-null    bool  \n",
      " 5   night      137 non-null    bool  \n",
      "dtypes: bool(3), int64(1), object(2)\n",
      "memory usage: 3.7+ KB\n"
     ]
    }
   ],
   "source": [
    "df.info()\n"
   ]
  },
  {
   "cell_type": "code",
   "execution_count": 109,
   "id": "d1cf9651-133d-46fe-9502-f2ed81958978",
   "metadata": {},
   "outputs": [
    {
     "ename": "KeyError",
     "evalue": "'staff_id'",
     "output_type": "error",
     "traceback": [
      "\u001b[31m---------------------------------------------------------------------------\u001b[39m",
      "\u001b[31mKeyError\u001b[39m                                  Traceback (most recent call last)",
      "\u001b[36mFile \u001b[39m\u001b[32m/Library/Frameworks/Python.framework/Versions/3.12/lib/python3.12/site-packages/pandas/core/indexes/base.py:3805\u001b[39m, in \u001b[36mIndex.get_loc\u001b[39m\u001b[34m(self, key)\u001b[39m\n\u001b[32m   3804\u001b[39m \u001b[38;5;28;01mtry\u001b[39;00m:\n\u001b[32m-> \u001b[39m\u001b[32m3805\u001b[39m     \u001b[38;5;28;01mreturn\u001b[39;00m \u001b[38;5;28;43mself\u001b[39;49m\u001b[43m.\u001b[49m\u001b[43m_engine\u001b[49m\u001b[43m.\u001b[49m\u001b[43mget_loc\u001b[49m\u001b[43m(\u001b[49m\u001b[43mcasted_key\u001b[49m\u001b[43m)\u001b[49m\n\u001b[32m   3806\u001b[39m \u001b[38;5;28;01mexcept\u001b[39;00m \u001b[38;5;167;01mKeyError\u001b[39;00m \u001b[38;5;28;01mas\u001b[39;00m err:\n",
      "\u001b[36mFile \u001b[39m\u001b[32mindex.pyx:167\u001b[39m, in \u001b[36mpandas._libs.index.IndexEngine.get_loc\u001b[39m\u001b[34m()\u001b[39m\n",
      "\u001b[36mFile \u001b[39m\u001b[32mindex.pyx:196\u001b[39m, in \u001b[36mpandas._libs.index.IndexEngine.get_loc\u001b[39m\u001b[34m()\u001b[39m\n",
      "\u001b[36mFile \u001b[39m\u001b[32mpandas/_libs/hashtable_class_helper.pxi:7081\u001b[39m, in \u001b[36mpandas._libs.hashtable.PyObjectHashTable.get_item\u001b[39m\u001b[34m()\u001b[39m\n",
      "\u001b[36mFile \u001b[39m\u001b[32mpandas/_libs/hashtable_class_helper.pxi:7089\u001b[39m, in \u001b[36mpandas._libs.hashtable.PyObjectHashTable.get_item\u001b[39m\u001b[34m()\u001b[39m\n",
      "\u001b[31mKeyError\u001b[39m: 'staff_id'",
      "\nThe above exception was the direct cause of the following exception:\n",
      "\u001b[31mKeyError\u001b[39m                                  Traceback (most recent call last)",
      "\u001b[36mCell\u001b[39m\u001b[36m \u001b[39m\u001b[32mIn[109]\u001b[39m\u001b[32m, line 16\u001b[39m\n\u001b[32m     13\u001b[39m         \u001b[38;5;28;01mif\u001b[39;00m row[shift] == \u001b[38;5;28;01mTrue\u001b[39;00m \u001b[38;5;129;01mor\u001b[39;00m row[shift] == \u001b[32m1\u001b[39m:  \u001b[38;5;66;03m# pandasでTrue/1両方に対応\u001b[39;00m\n\u001b[32m     14\u001b[39m             \u001b[38;5;28;01mfor\u001b[39;00m hour \u001b[38;5;129;01min\u001b[39;00m time_map[shift]:\n\u001b[32m     15\u001b[39m                 expanded_rows.append({\n\u001b[32m---> \u001b[39m\u001b[32m16\u001b[39m                     \u001b[33m\"\u001b[39m\u001b[33mstaff_id\u001b[39m\u001b[33m\"\u001b[39m: \u001b[43mrow\u001b[49m\u001b[43m[\u001b[49m\u001b[33;43m\"\u001b[39;49m\u001b[33;43mstaff_id\u001b[39;49m\u001b[33;43m\"\u001b[39;49m\u001b[43m]\u001b[49m,\n\u001b[32m     17\u001b[39m                     \u001b[33m\"\u001b[39m\u001b[33mname\u001b[39m\u001b[33m\"\u001b[39m: row[\u001b[33m\"\u001b[39m\u001b[33mname\u001b[39m\u001b[33m\"\u001b[39m],\n\u001b[32m     18\u001b[39m                     \u001b[33m\"\u001b[39m\u001b[33mdate\u001b[39m\u001b[33m\"\u001b[39m: row[\u001b[33m\"\u001b[39m\u001b[33mdate\u001b[39m\u001b[33m\"\u001b[39m].strftime(\u001b[33m\"\u001b[39m\u001b[33m%\u001b[39m\u001b[33mY-\u001b[39m\u001b[33m%\u001b[39m\u001b[33mm-\u001b[39m\u001b[38;5;132;01m%d\u001b[39;00m\u001b[33m\"\u001b[39m),\n\u001b[32m     19\u001b[39m                     \u001b[33m\"\u001b[39m\u001b[33mhour\u001b[39m\u001b[33m\"\u001b[39m: hour,\n\u001b[32m     20\u001b[39m                     \u001b[33m\"\u001b[39m\u001b[33mstaff_level\u001b[39m\u001b[33m\"\u001b[39m: row[\u001b[33m\"\u001b[39m\u001b[33mstaff_level\u001b[39m\u001b[33m\"\u001b[39m],\n\u001b[32m     21\u001b[39m                     \u001b[33m\"\u001b[39m\u001b[33mstaff_status\u001b[39m\u001b[33m\"\u001b[39m : row[\u001b[33m\"\u001b[39m\u001b[33mstaff_status\u001b[39m\u001b[33m\"\u001b[39m]\n\u001b[32m     22\u001b[39m \n\u001b[32m     23\u001b[39m                 })\n\u001b[32m     25\u001b[39m hourly_df = pd.DataFrame(expanded_rows)\n",
      "\u001b[36mFile \u001b[39m\u001b[32m/Library/Frameworks/Python.framework/Versions/3.12/lib/python3.12/site-packages/pandas/core/series.py:1121\u001b[39m, in \u001b[36mSeries.__getitem__\u001b[39m\u001b[34m(self, key)\u001b[39m\n\u001b[32m   1118\u001b[39m     \u001b[38;5;28;01mreturn\u001b[39;00m \u001b[38;5;28mself\u001b[39m._values[key]\n\u001b[32m   1120\u001b[39m \u001b[38;5;28;01melif\u001b[39;00m key_is_scalar:\n\u001b[32m-> \u001b[39m\u001b[32m1121\u001b[39m     \u001b[38;5;28;01mreturn\u001b[39;00m \u001b[38;5;28;43mself\u001b[39;49m\u001b[43m.\u001b[49m\u001b[43m_get_value\u001b[49m\u001b[43m(\u001b[49m\u001b[43mkey\u001b[49m\u001b[43m)\u001b[49m\n\u001b[32m   1123\u001b[39m \u001b[38;5;66;03m# Convert generator to list before going through hashable part\u001b[39;00m\n\u001b[32m   1124\u001b[39m \u001b[38;5;66;03m# (We will iterate through the generator there to check for slices)\u001b[39;00m\n\u001b[32m   1125\u001b[39m \u001b[38;5;28;01mif\u001b[39;00m is_iterator(key):\n",
      "\u001b[36mFile \u001b[39m\u001b[32m/Library/Frameworks/Python.framework/Versions/3.12/lib/python3.12/site-packages/pandas/core/series.py:1237\u001b[39m, in \u001b[36mSeries._get_value\u001b[39m\u001b[34m(self, label, takeable)\u001b[39m\n\u001b[32m   1234\u001b[39m     \u001b[38;5;28;01mreturn\u001b[39;00m \u001b[38;5;28mself\u001b[39m._values[label]\n\u001b[32m   1236\u001b[39m \u001b[38;5;66;03m# Similar to Index.get_value, but we do not fall back to positional\u001b[39;00m\n\u001b[32m-> \u001b[39m\u001b[32m1237\u001b[39m loc = \u001b[38;5;28;43mself\u001b[39;49m\u001b[43m.\u001b[49m\u001b[43mindex\u001b[49m\u001b[43m.\u001b[49m\u001b[43mget_loc\u001b[49m\u001b[43m(\u001b[49m\u001b[43mlabel\u001b[49m\u001b[43m)\u001b[49m\n\u001b[32m   1239\u001b[39m \u001b[38;5;28;01mif\u001b[39;00m is_integer(loc):\n\u001b[32m   1240\u001b[39m     \u001b[38;5;28;01mreturn\u001b[39;00m \u001b[38;5;28mself\u001b[39m._values[loc]\n",
      "\u001b[36mFile \u001b[39m\u001b[32m/Library/Frameworks/Python.framework/Versions/3.12/lib/python3.12/site-packages/pandas/core/indexes/base.py:3812\u001b[39m, in \u001b[36mIndex.get_loc\u001b[39m\u001b[34m(self, key)\u001b[39m\n\u001b[32m   3807\u001b[39m     \u001b[38;5;28;01mif\u001b[39;00m \u001b[38;5;28misinstance\u001b[39m(casted_key, \u001b[38;5;28mslice\u001b[39m) \u001b[38;5;129;01mor\u001b[39;00m (\n\u001b[32m   3808\u001b[39m         \u001b[38;5;28misinstance\u001b[39m(casted_key, abc.Iterable)\n\u001b[32m   3809\u001b[39m         \u001b[38;5;129;01mand\u001b[39;00m \u001b[38;5;28many\u001b[39m(\u001b[38;5;28misinstance\u001b[39m(x, \u001b[38;5;28mslice\u001b[39m) \u001b[38;5;28;01mfor\u001b[39;00m x \u001b[38;5;129;01min\u001b[39;00m casted_key)\n\u001b[32m   3810\u001b[39m     ):\n\u001b[32m   3811\u001b[39m         \u001b[38;5;28;01mraise\u001b[39;00m InvalidIndexError(key)\n\u001b[32m-> \u001b[39m\u001b[32m3812\u001b[39m     \u001b[38;5;28;01mraise\u001b[39;00m \u001b[38;5;167;01mKeyError\u001b[39;00m(key) \u001b[38;5;28;01mfrom\u001b[39;00m\u001b[38;5;250m \u001b[39m\u001b[34;01merr\u001b[39;00m\n\u001b[32m   3813\u001b[39m \u001b[38;5;28;01mexcept\u001b[39;00m \u001b[38;5;167;01mTypeError\u001b[39;00m:\n\u001b[32m   3814\u001b[39m     \u001b[38;5;66;03m# If we have a listlike key, _check_indexing_error will raise\u001b[39;00m\n\u001b[32m   3815\u001b[39m     \u001b[38;5;66;03m#  InvalidIndexError. Otherwise we fall through and re-raise\u001b[39;00m\n\u001b[32m   3816\u001b[39m     \u001b[38;5;66;03m#  the TypeError.\u001b[39;00m\n\u001b[32m   3817\u001b[39m     \u001b[38;5;28mself\u001b[39m._check_indexing_error(key)\n",
      "\u001b[31mKeyError\u001b[39m: 'staff_id'"
     ]
    }
   ],
   "source": [
    "\n",
    "time_map = {\n",
    "    \"morning\": list(range(9, 13)),     \n",
    "    \"afternoon\": list(range(13, 18)), \n",
    "    \"night\": list(range(18, 25))       \n",
    "}\n",
    "\n",
    "expanded_rows = []\n",
    "\n",
    "\n",
    "for _, row in df.iterrows():\n",
    "    for shift in [\"morning\", \"afternoon\", \"night\"]:\n",
    "        if row[shift] == True or row[shift] == 1:  \n",
    "            for hour in time_map[shift]:\n",
    "                expanded_rows.append({\n",
    "                    \"staff_id\": row[\"staff_id\"],\n",
    "                    \"name\": row[\"name\"],\n",
    "                    \"date\": row[\"date\"].strftime(\"%Y-%m-%d\"),\n",
    "                    \"hour\": hour,\n",
    "                    \"staff_level\": row[\"staff_level\"],\n",
    "                    \"staff_status\" : row[\"staff_status\"]\n",
    "                    \n",
    "                })\n",
    "\n",
    "hourly_df = pd.DataFrame(expanded_rows)\n"
   ]
  },
  {
   "cell_type": "code",
   "execution_count": 110,
   "id": "b57ba64e-e8fd-4c8c-b771-4ed59e4831f7",
   "metadata": {},
   "outputs": [
    {
     "ename": "NameError",
     "evalue": "name 'hourly_df' is not defined",
     "output_type": "error",
     "traceback": [
      "\u001b[31m---------------------------------------------------------------------------\u001b[39m",
      "\u001b[31mNameError\u001b[39m                                 Traceback (most recent call last)",
      "\u001b[36mCell\u001b[39m\u001b[36m \u001b[39m\u001b[32mIn[110]\u001b[39m\u001b[32m, line 1\u001b[39m\n\u001b[32m----> \u001b[39m\u001b[32m1\u001b[39m display(\u001b[43mhourly_df\u001b[49m)\n",
      "\u001b[31mNameError\u001b[39m: name 'hourly_df' is not defined"
     ]
    }
   ],
   "source": [
    "display(hourly_df)"
   ]
  },
  {
   "cell_type": "code",
   "execution_count": 111,
   "id": "dcd3de7c-6a4d-4b1c-b8ff-8c132da3b487",
   "metadata": {},
   "outputs": [
    {
     "ename": "NameError",
     "evalue": "name 'hourly_df' is not defined",
     "output_type": "error",
     "traceback": [
      "\u001b[31m---------------------------------------------------------------------------\u001b[39m",
      "\u001b[31mNameError\u001b[39m                                 Traceback (most recent call last)",
      "\u001b[36mCell\u001b[39m\u001b[36m \u001b[39m\u001b[32mIn[111]\u001b[39m\u001b[32m, line 5\u001b[39m\n\u001b[32m      2\u001b[39m x = {}\n\u001b[32m      4\u001b[39m \u001b[38;5;66;03m# x[スタッフ, 日付, 時間] = 0 or 1（勤務かどうか）\u001b[39;00m\n\u001b[32m----> \u001b[39m\u001b[32m5\u001b[39m \u001b[38;5;28;01mfor\u001b[39;00m _, row \u001b[38;5;129;01min\u001b[39;00m \u001b[43mhourly_df\u001b[49m.iterrows():\n\u001b[32m      6\u001b[39m     key = (row[\u001b[33m\"\u001b[39m\u001b[33mstaff_id\u001b[39m\u001b[33m\"\u001b[39m], row[\u001b[33m\"\u001b[39m\u001b[33mdate\u001b[39m\u001b[33m\"\u001b[39m], row[\u001b[33m\"\u001b[39m\u001b[33mhour\u001b[39m\u001b[33m\"\u001b[39m])\n\u001b[32m      7\u001b[39m     x[key] = LpVariable(\u001b[33mf\u001b[39m\u001b[33m\"\u001b[39m\u001b[33mx_\u001b[39m\u001b[38;5;132;01m{\u001b[39;00mrow[\u001b[33m'\u001b[39m\u001b[33mstaff_id\u001b[39m\u001b[33m'\u001b[39m]\u001b[38;5;132;01m}\u001b[39;00m\u001b[33m_\u001b[39m\u001b[38;5;132;01m{\u001b[39;00mrow[\u001b[33m'\u001b[39m\u001b[33mdate\u001b[39m\u001b[33m'\u001b[39m]\u001b[38;5;132;01m}\u001b[39;00m\u001b[33m_\u001b[39m\u001b[38;5;132;01m{\u001b[39;00mrow[\u001b[33m'\u001b[39m\u001b[33mhour\u001b[39m\u001b[33m'\u001b[39m]\u001b[38;5;132;01m}\u001b[39;00m\u001b[33m\"\u001b[39m, cat=\u001b[33m\"\u001b[39m\u001b[33mBinary\u001b[39m\u001b[33m\"\u001b[39m)\n",
      "\u001b[31mNameError\u001b[39m: name 'hourly_df' is not defined"
     ]
    }
   ],
   "source": [
    "model = LpProblem(\"ShiftOptimization\", LpMinimize)\n",
    "x = {}\n",
    "\n",
    "# x[スタッフ, 日付, 時間] = 0 or 1（勤務かどうか）\n",
    "for _, row in hourly_df.iterrows():\n",
    "    key = (row[\"staff_id\"], row[\"date\"], row[\"hour\"])\n",
    "    x[key] = LpVariable(f\"x_{row['staff_id']}_{row['date']}_{row['hour']}\", cat=\"Binary\")"
   ]
  },
  {
   "cell_type": "code",
   "execution_count": 112,
   "id": "8dc0aabc-e952-4b9c-a8bd-c2a8e10be568",
   "metadata": {},
   "outputs": [
    {
     "ename": "NameError",
     "evalue": "name 'hourly_df' is not defined",
     "output_type": "error",
     "traceback": [
      "\u001b[31m---------------------------------------------------------------------------\u001b[39m",
      "\u001b[31mNameError\u001b[39m                                 Traceback (most recent call last)",
      "\u001b[36mCell\u001b[39m\u001b[36m \u001b[39m\u001b[32mIn[112]\u001b[39m\u001b[32m, line 1\u001b[39m\n\u001b[32m----> \u001b[39m\u001b[32m1\u001b[39m hours = \u001b[38;5;28msorted\u001b[39m(\u001b[43mhourly_df\u001b[49m[\u001b[33m\"\u001b[39m\u001b[33mhour\u001b[39m\u001b[33m\"\u001b[39m].unique())[:\u001b[38;5;28mlen\u001b[39m(pred)]\n\u001b[32m      4\u001b[39m pred = [\u001b[32m10\u001b[39m,\u001b[32m15\u001b[39m,\u001b[32m25\u001b[39m,\u001b[32m10\u001b[39m,\u001b[32m12\u001b[39m,\u001b[32m14\u001b[39m,\u001b[32m10\u001b[39m,\u001b[32m14\u001b[39m,\u001b[32m15\u001b[39m,\u001b[32m20\u001b[39m,\u001b[32m10\u001b[39m,\u001b[32m15\u001b[39m,\u001b[32m10\u001b[39m,\u001b[32m12\u001b[39m]  \u001b[38;5;66;03m# 各時間帯に必要なスタッフレベル合計\u001b[39;00m\n\u001b[32m      6\u001b[39m \u001b[38;5;28;01mfor\u001b[39;00m i, hour \u001b[38;5;129;01min\u001b[39;00m \u001b[38;5;28menumerate\u001b[39m(hours):\n",
      "\u001b[31mNameError\u001b[39m: name 'hourly_df' is not defined"
     ]
    }
   ],
   "source": [
    "hours = sorted(hourly_df[\"hour\"].unique())[:len(pred)]\n",
    "\n",
    "\n",
    "pred = [10,15,25,10,12,14,10,14,15,20,10,15,10,12]  # 各時間帯に必要なスタッフレベル合計\n",
    "\n",
    "for i, hour in enumerate(hours):\n",
    "    for date in hourly_df[\"date\"].unique():\n",
    "        terms = []\n",
    "        for sid in hourly_df[\"staff_id\"].unique():\n",
    "            if (sid, date, hour) in x:\n",
    "                staff_level_val = hourly_df.loc[\n",
    "                    (hourly_df[\"staff_id\"] == sid) &\n",
    "                    (hourly_df[\"date\"] == date) &\n",
    "                    (hourly_df[\"hour\"] == hour),\n",
    "                    \"staff_level\"\n",
    "                ]\n",
    "                if not staff_level_val.empty:\n",
    "                    level_value = staff_level_val.values[0]\n",
    "                    if isinstance(level_value, list):\n",
    "                        level_value = level_value[0]\n",
    "                    level = float(level_value)\n",
    "                    terms.append(x[sid, date, hour] * level)\n",
    "        model += lpSum(terms) >= pred[i], f\"NeedLevel_{date}_{hour}\"\n"
   ]
  },
  {
   "cell_type": "code",
   "execution_count": 113,
   "id": "5b4ae62a-46b6-42ce-a3e3-7ea20e7d8d69",
   "metadata": {},
   "outputs": [
    {
     "ename": "NameError",
     "evalue": "name 'hourly_df' is not defined",
     "output_type": "error",
     "traceback": [
      "\u001b[31m---------------------------------------------------------------------------\u001b[39m",
      "\u001b[31mNameError\u001b[39m                                 Traceback (most recent call last)",
      "\u001b[36mCell\u001b[39m\u001b[36m \u001b[39m\u001b[32mIn[113]\u001b[39m\u001b[32m, line 1\u001b[39m\n\u001b[32m----> \u001b[39m\u001b[32m1\u001b[39m \u001b[38;5;28;01mfor\u001b[39;00m _, row \u001b[38;5;129;01min\u001b[39;00m \u001b[43mhourly_df\u001b[49m.iterrows():\n\u001b[32m      2\u001b[39m     sid = row[\u001b[33m\"\u001b[39m\u001b[33mstaff_id\u001b[39m\u001b[33m\"\u001b[39m]\n\u001b[32m      3\u001b[39m     date = row[\u001b[33m\"\u001b[39m\u001b[33mdate\u001b[39m\u001b[33m\"\u001b[39m]\n",
      "\u001b[31mNameError\u001b[39m: name 'hourly_df' is not defined"
     ]
    }
   ],
   "source": [
    "for _, row in hourly_df.iterrows():\n",
    "    sid = row[\"staff_id\"]\n",
    "    date = row[\"date\"]\n",
    "    hour = row[\"hour\"]\n",
    "    status = row[\"staff_status\"]\n",
    "\n",
    "    if status == \"High school student\" and hour >= 22:\n",
    "        if (sid, date, hour) in x:\n",
    "            model += x[sid, date, hour] == 0, f\"HighSchoolNoLate_{sid}_{date}_{hour}\"\n"
   ]
  },
  {
   "cell_type": "code",
   "execution_count": 114,
   "id": "8923b492-74ba-47aa-b3e7-cd7a2cf385e5",
   "metadata": {},
   "outputs": [],
   "source": [
    "model += lpSum(x.values()), \"MinimizeTotalShifts\"\n"
   ]
  },
  {
   "cell_type": "code",
   "execution_count": 115,
   "id": "544806e5-a6ed-4407-863c-aedd2b7a94a8",
   "metadata": {},
   "outputs": [
    {
     "name": "stdout",
     "output_type": "stream",
     "text": [
      "⚠️ 結果が空です。モデルに解があるか、制約が厳しすぎないか確認してください。\n"
     ]
    }
   ],
   "source": [
    "results = []\n",
    "for (sid, date, hour), var in x.items():\n",
    "    if var.varValue == 1:\n",
    "        results.append({\n",
    "            \"staff_id\": sid,\n",
    "            \"date\": str(date),  # ←ここを追加！\n",
    "            \"hour\": hour\n",
    "        })\n",
    "\n",
    "if len(results) == 0:\n",
    "    print(\"⚠️ 結果が空です。モデルに解があるか、制約が厳しすぎないか確認してください。\")\n",
    "else:\n",
    "    result_df = pd.DataFrame(results).sort_values(by=[\"date\", \"hour\", \"staff_id\"])\n",
    "    print(result_df.head())\n"
   ]
  },
  {
   "cell_type": "code",
   "execution_count": 116,
   "id": "90dd3b95-345f-4368-83cd-12a0651da6d9",
   "metadata": {},
   "outputs": [
    {
     "name": "stdout",
     "output_type": "stream",
     "text": [
      "モデルの状態: Not Solved\n"
     ]
    }
   ],
   "source": [
    "from pulp import LpStatus\n",
    "print(\"モデルの状態:\", LpStatus[model.status])\n"
   ]
  },
  {
   "cell_type": "code",
   "execution_count": 117,
   "id": "0397e821-bbb9-419a-9055-c9a9a1f31015",
   "metadata": {},
   "outputs": [
    {
     "name": "stdout",
     "output_type": "stream",
     "text": [
      "Welcome to the CBC MILP Solver \n",
      "Version: 2.10.3 \n",
      "Build Date: Dec 15 2019 \n",
      "\n",
      "command line - /Library/Frameworks/Python.framework/Versions/3.12/lib/python3.12/site-packages/pulp/apis/../solverdir/cbc/osx/i64/cbc /var/folders/23/dxqwsqmd1w3g02ljvb96m6fm0000gn/T/dd2ef3f2b4a1492aa089ddd7b62dd7cf-pulp.mps -timeMode elapsed -branch -printingOptions all -solution /var/folders/23/dxqwsqmd1w3g02ljvb96m6fm0000gn/T/dd2ef3f2b4a1492aa089ddd7b62dd7cf-pulp.sol (default strategy 1)\n",
      "At line 2 NAME          MODEL\n",
      "At line 3 ROWS\n",
      "At line 5 COLUMNS\n",
      "At line 7 RHS\n",
      "At line 8 BOUNDS\n",
      "At line 10 ENDATA\n",
      "Problem MODEL has 0 rows, 1 columns and 0 elements\n",
      "Coin0008I MODEL read with 0 errors\n",
      "Option for timeMode changed from cpu to elapsed\n",
      "Empty problem - 0 rows, 1 columns and 0 elements\n",
      "Optimal - objective value 0\n",
      "Optimal objective 0 - 0 iterations time 0.002\n",
      "Option for printingOptions changed from normal to all\n",
      "Total time (CPU seconds):       0.00   (Wallclock seconds):       0.01\n",
      "\n",
      "モデルの状態: Optimal\n"
     ]
    },
    {
     "ename": "KeyError",
     "evalue": "'date'",
     "output_type": "error",
     "traceback": [
      "\u001b[31m---------------------------------------------------------------------------\u001b[39m",
      "\u001b[31mKeyError\u001b[39m                                  Traceback (most recent call last)",
      "\u001b[32m/var/folders/23/dxqwsqmd1w3g02ljvb96m6fm0000gn/T/ipykernel_2927/1352535784.py\u001b[39m in \u001b[36m?\u001b[39m\u001b[34m()\u001b[39m\n\u001b[32m     15\u001b[39m                 \u001b[33m\"staff_id\"\u001b[39m: sid,\n\u001b[32m     16\u001b[39m                 \u001b[33m\"date\"\u001b[39m: str(date),\n\u001b[32m     17\u001b[39m                 \u001b[33m\"hour\"\u001b[39m: hour\n\u001b[32m     18\u001b[39m             })\n\u001b[32m---> \u001b[39m\u001b[32m19\u001b[39m     result_df = pd.DataFrame(results).sort_values(by=[\u001b[33m\"date\"\u001b[39m, \u001b[33m\"hour\"\u001b[39m, \u001b[33m\"staff_id\"\u001b[39m])\n\u001b[32m     20\u001b[39m     display(result_df.head())\n\u001b[32m     21\u001b[39m \u001b[38;5;28;01melse\u001b[39;00m:\n\u001b[32m     22\u001b[39m     print(\u001b[33m\"❌ モデルは解かれていません。制約条件やデータを見直してください。\"\u001b[39m)\n",
      "\u001b[32m/Library/Frameworks/Python.framework/Versions/3.12/lib/python3.12/site-packages/pandas/core/frame.py\u001b[39m in \u001b[36m?\u001b[39m\u001b[34m(self, by, axis, ascending, inplace, kind, na_position, ignore_index, key)\u001b[39m\n\u001b[32m   7168\u001b[39m                 f\"Length of ascending ({len(ascending)})\"  \u001b[38;5;66;03m# type: ignore[arg-type]\u001b[39;00m\n\u001b[32m   7169\u001b[39m                 f\" != length of by ({len(by)})\"\n\u001b[32m   7170\u001b[39m             )\n\u001b[32m   7171\u001b[39m         \u001b[38;5;28;01mif\u001b[39;00m len(by) > \u001b[32m1\u001b[39m:\n\u001b[32m-> \u001b[39m\u001b[32m7172\u001b[39m             keys = [self._get_label_or_level_values(x, axis=axis) \u001b[38;5;28;01mfor\u001b[39;00m x \u001b[38;5;28;01min\u001b[39;00m by]\n\u001b[32m   7173\u001b[39m \n\u001b[32m   7174\u001b[39m             \u001b[38;5;66;03m# need to rewrap columns in Series to apply key function\u001b[39;00m\n\u001b[32m   7175\u001b[39m             \u001b[38;5;28;01mif\u001b[39;00m key \u001b[38;5;28;01mis\u001b[39;00m \u001b[38;5;28;01mnot\u001b[39;00m \u001b[38;5;28;01mNone\u001b[39;00m:\n",
      "\u001b[32m/Library/Frameworks/Python.framework/Versions/3.12/lib/python3.12/site-packages/pandas/core/generic.py\u001b[39m in \u001b[36m?\u001b[39m\u001b[34m(self, key, axis)\u001b[39m\n\u001b[32m   1907\u001b[39m             values = self.xs(key, axis=other_axes[\u001b[32m0\u001b[39m])._values\n\u001b[32m   1908\u001b[39m         \u001b[38;5;28;01melif\u001b[39;00m self._is_level_reference(key, axis=axis):\n\u001b[32m   1909\u001b[39m             values = self.axes[axis].get_level_values(key)._values\n\u001b[32m   1910\u001b[39m         \u001b[38;5;28;01melse\u001b[39;00m:\n\u001b[32m-> \u001b[39m\u001b[32m1911\u001b[39m             \u001b[38;5;28;01mraise\u001b[39;00m KeyError(key)\n\u001b[32m   1912\u001b[39m \n\u001b[32m   1913\u001b[39m         \u001b[38;5;66;03m# Check for duplicates\u001b[39;00m\n\u001b[32m   1914\u001b[39m         \u001b[38;5;28;01mif\u001b[39;00m values.ndim > \u001b[32m1\u001b[39m:\n",
      "\u001b[31mKeyError\u001b[39m: 'date'"
     ]
    }
   ],
   "source": [
    "from pulp import PULP_CBC_CMD, LpStatus, value\n",
    "\n",
    "# 最後に solve() を忘れずに！\n",
    "model.solve(PULP_CBC_CMD(msg=True))  # msg=True でログ出力も見れる\n",
    "\n",
    "# ステータス確認\n",
    "print(\"モデルの状態:\", LpStatus[model.status])\n",
    "\n",
    "# 結果が得られている場合のみ表示\n",
    "if model.status == 1:\n",
    "    results = []\n",
    "    for (sid, date, hour), var in x.items():\n",
    "        if var.varValue == 1:\n",
    "            results.append({\n",
    "                \"staff_id\": sid,\n",
    "                \"date\": str(date),\n",
    "                \"hour\": hour\n",
    "            })\n",
    "    result_df = pd.DataFrame(results).sort_values(by=[\"date\", \"hour\", \"staff_id\"])\n",
    "    display(result_df.head())\n",
    "else:\n",
    "    print(\"❌ モデルは解かれていません。制約条件やデータを見直してください。\")\n"
   ]
  },
  {
   "cell_type": "code",
   "execution_count": 118,
   "id": "87f1a18d-23de-44e0-9bb6-33a3017ae815",
   "metadata": {},
   "outputs": [
    {
     "ename": "NameError",
     "evalue": "name 'hourly_df' is not defined",
     "output_type": "error",
     "traceback": [
      "\u001b[31m---------------------------------------------------------------------------\u001b[39m",
      "\u001b[31mNameError\u001b[39m                                 Traceback (most recent call last)",
      "\u001b[36mCell\u001b[39m\u001b[36m \u001b[39m\u001b[32mIn[118]\u001b[39m\u001b[32m, line 2\u001b[39m\n\u001b[32m      1\u001b[39m x = {}\n\u001b[32m----> \u001b[39m\u001b[32m2\u001b[39m \u001b[38;5;28;01mfor\u001b[39;00m _, row \u001b[38;5;129;01min\u001b[39;00m \u001b[43mhourly_df\u001b[49m.iterrows():\n\u001b[32m      3\u001b[39m     key = (row[\u001b[33m\"\u001b[39m\u001b[33mstaff_id\u001b[39m\u001b[33m\"\u001b[39m], row[\u001b[33m\"\u001b[39m\u001b[33mdate\u001b[39m\u001b[33m\"\u001b[39m], row[\u001b[33m\"\u001b[39m\u001b[33mhour\u001b[39m\u001b[33m\"\u001b[39m])\n\u001b[32m      4\u001b[39m     x[key] = LpVariable(\u001b[33mf\u001b[39m\u001b[33m\"\u001b[39m\u001b[33mx_\u001b[39m\u001b[38;5;132;01m{\u001b[39;00mrow[\u001b[33m'\u001b[39m\u001b[33mstaff_id\u001b[39m\u001b[33m'\u001b[39m]\u001b[38;5;132;01m}\u001b[39;00m\u001b[33m_\u001b[39m\u001b[38;5;132;01m{\u001b[39;00mrow[\u001b[33m'\u001b[39m\u001b[33mdate\u001b[39m\u001b[33m'\u001b[39m]\u001b[38;5;132;01m}\u001b[39;00m\u001b[33m_\u001b[39m\u001b[38;5;132;01m{\u001b[39;00mrow[\u001b[33m'\u001b[39m\u001b[33mhour\u001b[39m\u001b[33m'\u001b[39m]\u001b[38;5;132;01m}\u001b[39;00m\u001b[33m\"\u001b[39m, cat=\u001b[33m\"\u001b[39m\u001b[33mBinary\u001b[39m\u001b[33m\"\u001b[39m)\n",
      "\u001b[31mNameError\u001b[39m: name 'hourly_df' is not defined"
     ]
    }
   ],
   "source": [
    "x = {}\n",
    "for _, row in hourly_df.iterrows():\n",
    "    key = (row[\"staff_id\"], row[\"date\"], row[\"hour\"])\n",
    "    x[key] = LpVariable(f\"x_{row['staff_id']}_{row['date']}_{row['hour']}\", cat=\"Binary\")\n"
   ]
  },
  {
   "cell_type": "code",
   "execution_count": 119,
   "id": "382913e4-4df4-4355-867d-df108aa062bb",
   "metadata": {},
   "outputs": [
    {
     "ename": "NameError",
     "evalue": "name 'hourly_df' is not defined",
     "output_type": "error",
     "traceback": [
      "\u001b[31m---------------------------------------------------------------------------\u001b[39m",
      "\u001b[31mNameError\u001b[39m                                 Traceback (most recent call last)",
      "\u001b[36mCell\u001b[39m\u001b[36m \u001b[39m\u001b[32mIn[119]\u001b[39m\u001b[32m, line 2\u001b[39m\n\u001b[32m      1\u001b[39m Help = {}\n\u001b[32m----> \u001b[39m\u001b[32m2\u001b[39m \u001b[38;5;28;01mfor\u001b[39;00m date \u001b[38;5;129;01min\u001b[39;00m \u001b[43mhourly_df\u001b[49m[\u001b[33m\"\u001b[39m\u001b[33mdate\u001b[39m\u001b[33m\"\u001b[39m].unique():\n\u001b[32m      3\u001b[39m     \u001b[38;5;28;01mfor\u001b[39;00m hour \u001b[38;5;129;01min\u001b[39;00m hourly_df[\u001b[33m\"\u001b[39m\u001b[33mhour\u001b[39m\u001b[33m\"\u001b[39m].unique():\n\u001b[32m      4\u001b[39m         Help[date, hour] = LpVariable(\u001b[33mf\u001b[39m\u001b[33m\"\u001b[39m\u001b[33mHelp_\u001b[39m\u001b[38;5;132;01m{\u001b[39;00mdate\u001b[38;5;132;01m}\u001b[39;00m\u001b[33m_\u001b[39m\u001b[38;5;132;01m{\u001b[39;00mhour\u001b[38;5;132;01m}\u001b[39;00m\u001b[33m\"\u001b[39m, cat=\u001b[33m\"\u001b[39m\u001b[33mBinary\u001b[39m\u001b[33m\"\u001b[39m)\n",
      "\u001b[31mNameError\u001b[39m: name 'hourly_df' is not defined"
     ]
    }
   ],
   "source": [
    "Help = {}\n",
    "for date in hourly_df[\"date\"].unique():\n",
    "    for hour in hourly_df[\"hour\"].unique():\n",
    "        Help[date, hour] = LpVariable(f\"Help_{date}_{hour}\", cat=\"Binary\")\n"
   ]
  },
  {
   "cell_type": "code",
   "execution_count": 120,
   "id": "e3d1f809-b3c0-457a-8826-de44b2605fa0",
   "metadata": {},
   "outputs": [
    {
     "ename": "NameError",
     "evalue": "name 'hourly_df' is not defined",
     "output_type": "error",
     "traceback": [
      "\u001b[31m---------------------------------------------------------------------------\u001b[39m",
      "\u001b[31mNameError\u001b[39m                                 Traceback (most recent call last)",
      "\u001b[36mCell\u001b[39m\u001b[36m \u001b[39m\u001b[32mIn[120]\u001b[39m\u001b[32m, line 1\u001b[39m\n\u001b[32m----> \u001b[39m\u001b[32m1\u001b[39m model += lpSum(Help[date, hour] \u001b[38;5;28;01mfor\u001b[39;00m date \u001b[38;5;129;01min\u001b[39;00m \u001b[43mhourly_df\u001b[49m[\u001b[33m\"\u001b[39m\u001b[33mdate\u001b[39m\u001b[33m\"\u001b[39m].unique()\n\u001b[32m      2\u001b[39m                                  \u001b[38;5;28;01mfor\u001b[39;00m hour \u001b[38;5;129;01min\u001b[39;00m hourly_df[\u001b[33m\"\u001b[39m\u001b[33mhour\u001b[39m\u001b[33m\"\u001b[39m].unique())\n",
      "\u001b[31mNameError\u001b[39m: name 'hourly_df' is not defined"
     ]
    }
   ],
   "source": [
    "model += lpSum(Help[date, hour] for date in hourly_df[\"date\"].unique()\n",
    "                                 for hour in hourly_df[\"hour\"].unique())\n"
   ]
  },
  {
   "cell_type": "code",
   "execution_count": 121,
   "id": "15fc5efa-d6ba-4c39-9cbc-c10614cfd625",
   "metadata": {},
   "outputs": [
    {
     "ename": "NameError",
     "evalue": "name 'hours' is not defined",
     "output_type": "error",
     "traceback": [
      "\u001b[31m---------------------------------------------------------------------------\u001b[39m",
      "\u001b[31mNameError\u001b[39m                                 Traceback (most recent call last)",
      "\u001b[36mCell\u001b[39m\u001b[36m \u001b[39m\u001b[32mIn[121]\u001b[39m\u001b[32m, line 1\u001b[39m\n\u001b[32m----> \u001b[39m\u001b[32m1\u001b[39m \u001b[38;5;28;01mfor\u001b[39;00m i, hour \u001b[38;5;129;01min\u001b[39;00m \u001b[38;5;28menumerate\u001b[39m(\u001b[43mhours\u001b[49m):  \u001b[38;5;66;03m# pred[i]に対応\u001b[39;00m\n\u001b[32m      2\u001b[39m     \u001b[38;5;28;01mfor\u001b[39;00m date \u001b[38;5;129;01min\u001b[39;00m hourly_df[\u001b[33m\"\u001b[39m\u001b[33mdate\u001b[39m\u001b[33m\"\u001b[39m].unique():\n\u001b[32m      3\u001b[39m         terms = []\n",
      "\u001b[31mNameError\u001b[39m: name 'hours' is not defined"
     ]
    }
   ],
   "source": [
    "for i, hour in enumerate(hours):  # pred[i]に対応\n",
    "    for date in hourly_df[\"date\"].unique():\n",
    "        terms = []\n",
    "        for sid in hourly_df[\"staff_id\"].unique():\n",
    "            key = (sid, date, hour)\n",
    "            if key in x:\n",
    "                staff_level_val = hourly_df[\n",
    "                    (hourly_df[\"staff_id\"] == sid) &\n",
    "                    (hourly_df[\"date\"] == date) &\n",
    "                    (hourly_df[\"hour\"] == hour)\n",
    "                ][\"staff_level\"].values\n",
    "                if len(staff_level_val) > 0:\n",
    "                    level = float(staff_level_val[0])\n",
    "                    terms.append(x[key] * level)\n",
    "\n",
    "      \n",
    "        model += lpSum(terms) + 100 * Help[date, hour] >= pred[i], f\"LevelOrHelp_{date}_{hour}\"\n"
   ]
  },
  {
   "cell_type": "code",
   "execution_count": 122,
   "id": "ccde5cab-8c86-4d9c-af48-1c159e83be0f",
   "metadata": {},
   "outputs": [],
   "source": [
    "for key, var in Help.items():\n",
    "    if var.varValue == 1:\n",
    "        print(f\"⚠️ Help needed on {key}\")\n"
   ]
  },
  {
   "cell_type": "code",
   "execution_count": 123,
   "id": "5823af20-4b1e-4722-8384-b7343dbf6791",
   "metadata": {},
   "outputs": [],
   "source": [
    "results = []\n",
    "\n",
    "for (sid, date, hour), var in x.items():\n",
    "    if var.varValue == 1:\n",
    "        results.append({\n",
    "            \"staff_id\": sid,\n",
    "            \"date\": date,\n",
    "            \"hour\": hour,\n",
    "            \"assigned\": 1\n",
    "        })\n"
   ]
  },
  {
   "cell_type": "code",
   "execution_count": 124,
   "id": "cdaa94a4-7a16-491b-80e3-390201ca604e",
   "metadata": {},
   "outputs": [],
   "source": [
    "help_needed = []\n",
    "\n",
    "for (date, hour), var in Help.items():\n",
    "    if var.varValue == 1:\n",
    "        help_needed.append({\n",
    "            \"date\": date,\n",
    "            \"hour\": hour,\n",
    "            \"HELP\": 1\n",
    "        })\n",
    "\n",
    "\n"
   ]
  },
  {
   "cell_type": "code",
   "execution_count": 125,
   "id": "900399f3-22e8-4f3f-a3df-3470a9d6d59e",
   "metadata": {},
   "outputs": [
    {
     "name": "stdout",
     "output_type": "stream",
     "text": [
      "RangeIndex(start=0, stop=0, step=1)\n",
      "❌ 必要なカラムが足りません。\n"
     ]
    }
   ],
   "source": [
    "df_temp = pd.DataFrame(results)\n",
    "print(df_temp.columns)  # ['staff_id', 'date', 'hour', 'assigned'] があるか確認\n",
    "\n",
    "# そのあとに並び替え\n",
    "if all(col in df_temp.columns for col in [\"date\", \"hour\", \"staff_id\"]):\n",
    "    result_df = df_temp.sort_values(by=[\"date\", \"hour\", \"staff_id\"])\n",
    "else:\n",
    "    print(\"❌ 必要なカラムが足りません。\")\n"
   ]
  },
  {
   "cell_type": "code",
   "execution_count": 160,
   "id": "1a16bddb-0663-4c6d-a341-99cac917d9f2",
   "metadata": {},
   "outputs": [],
   "source": [
    "staff_pro_df = pd.read_csv(\"../data/__________20_____.csv\")\n",
    "staff_pro_df.head()\n",
    "staff_status = staff_pro_df[\"status\"].unique()\n",
    "staff_pro_df[\"status\"] = staff_pro_df[\"status\"].apply(lambda x: \"International Student\" if x == \"留学生\" else x)\n",
    "pred = [10,15,25,10,12,14,10]"
   ]
  },
  {
   "cell_type": "code",
   "execution_count": 161,
   "id": "3e5b09a9-cd54-46b6-9cd2-b81128f4f24d",
   "metadata": {},
   "outputs": [
    {
     "data": {
      "text/plain": [
       "array(['留学生', 'International Student', 'Regular', 'Part-time'],\n",
       "      dtype=object)"
      ]
     },
     "metadata": {},
     "output_type": "display_data"
    }
   ],
   "source": [
    "display(staff_status)"
   ]
  },
  {
   "cell_type": "code",
   "execution_count": null,
   "id": "d50aca2d-3ce0-4b33-9826-573ad2f73bc5",
   "metadata": {},
   "outputs": [],
   "source": []
  },
  {
   "cell_type": "code",
   "execution_count": 162,
   "id": "7a6a0b68-c099-4cc5-925a-74bbbd21787e",
   "metadata": {},
   "outputs": [
    {
     "data": {
      "text/html": [
       "<div>\n",
       "<style scoped>\n",
       "    .dataframe tbody tr th:only-of-type {\n",
       "        vertical-align: middle;\n",
       "    }\n",
       "\n",
       "    .dataframe tbody tr th {\n",
       "        vertical-align: top;\n",
       "    }\n",
       "\n",
       "    .dataframe thead th {\n",
       "        text-align: right;\n",
       "    }\n",
       "</style>\n",
       "<table border=\"1\" class=\"dataframe\">\n",
       "  <thead>\n",
       "    <tr style=\"text-align: right;\">\n",
       "      <th></th>\n",
       "      <th>ID</th>\n",
       "      <th>Name</th>\n",
       "      <th>Level</th>\n",
       "      <th>Gender</th>\n",
       "      <th>Age</th>\n",
       "      <th>Email</th>\n",
       "      <th>status</th>\n",
       "    </tr>\n",
       "  </thead>\n",
       "  <tbody>\n",
       "    <tr>\n",
       "      <th>0</th>\n",
       "      <td>1001</td>\n",
       "      <td>khh</td>\n",
       "      <td>3</td>\n",
       "      <td>Male</td>\n",
       "      <td>24</td>\n",
       "      <td>khh@gmail.com</td>\n",
       "      <td>International Student</td>\n",
       "    </tr>\n",
       "    <tr>\n",
       "      <th>1</th>\n",
       "      <td>1002</td>\n",
       "      <td>kph</td>\n",
       "      <td>3</td>\n",
       "      <td>Female</td>\n",
       "      <td>24</td>\n",
       "      <td>kph</td>\n",
       "      <td>International Student</td>\n",
       "    </tr>\n",
       "    <tr>\n",
       "      <th>2</th>\n",
       "      <td>1003</td>\n",
       "      <td>yss</td>\n",
       "      <td>3</td>\n",
       "      <td>Male</td>\n",
       "      <td>24</td>\n",
       "      <td>yss@gmail.com</td>\n",
       "      <td>International Student</td>\n",
       "    </tr>\n",
       "    <tr>\n",
       "      <th>3</th>\n",
       "      <td>1004</td>\n",
       "      <td>user1004</td>\n",
       "      <td>1</td>\n",
       "      <td>Female</td>\n",
       "      <td>28</td>\n",
       "      <td>user1004@example.com</td>\n",
       "      <td>Regular</td>\n",
       "    </tr>\n",
       "    <tr>\n",
       "      <th>4</th>\n",
       "      <td>1005</td>\n",
       "      <td>user1005</td>\n",
       "      <td>5</td>\n",
       "      <td>Female</td>\n",
       "      <td>28</td>\n",
       "      <td>user1005@example.com</td>\n",
       "      <td>International Student</td>\n",
       "    </tr>\n",
       "  </tbody>\n",
       "</table>\n",
       "</div>"
      ],
      "text/plain": [
       "     ID      Name  Level  Gender  Age                 Email  \\\n",
       "0  1001       khh      3    Male   24         khh@gmail.com   \n",
       "1  1002       kph      3  Female   24                   kph   \n",
       "2  1003       yss      3    Male   24         yss@gmail.com   \n",
       "3  1004  user1004      1  Female   28  user1004@example.com   \n",
       "4  1005  user1005      5  Female   28  user1005@example.com   \n",
       "\n",
       "                  status  \n",
       "0  International Student  \n",
       "1  International Student  \n",
       "2  International Student  \n",
       "3                Regular  \n",
       "4  International Student  "
      ]
     },
     "execution_count": 162,
     "metadata": {},
     "output_type": "execute_result"
    }
   ],
   "source": [
    "staff_pro_df.head()\n"
   ]
  },
  {
   "cell_type": "code",
   "execution_count": 130,
   "id": "84012065-ab08-4829-b69e-73d20015bf7b",
   "metadata": {},
   "outputs": [],
   "source": [
    "df = pd.read_csv(\"../data/_________.csv\")"
   ]
  },
  {
   "cell_type": "code",
   "execution_count": 131,
   "id": "5f252578-d052-4bf9-bacc-6d53ac94363c",
   "metadata": {},
   "outputs": [],
   "source": [
    "df.head()\n",
    "df = df.rename(columns={\"staff_id\":\"ID\"})"
   ]
  },
  {
   "cell_type": "code",
   "execution_count": 132,
   "id": "92f0d44c-6736-4971-9d48-32fd93964587",
   "metadata": {},
   "outputs": [],
   "source": [
    "final_df = pd.merge(staff_pro_df,df,on=\"ID\")"
   ]
  },
  {
   "cell_type": "code",
   "execution_count": 163,
   "id": "c4cf7923-cca0-4618-832a-c66eeee2b607",
   "metadata": {},
   "outputs": [],
   "source": [
    "final_df.head()\n",
    "final_df.to_csv(\"../data/testing.csv\")"
   ]
  },
  {
   "cell_type": "code",
   "execution_count": 134,
   "id": "52b672b6-87f0-413b-8c42-28ff5755bec7",
   "metadata": {},
   "outputs": [],
   "source": [
    "final_df = final_df.drop('name', axis=1)"
   ]
  },
  {
   "cell_type": "code",
   "execution_count": 135,
   "id": "f94b482f-4a0c-408a-b97e-1fe073a1addd",
   "metadata": {},
   "outputs": [
    {
     "data": {
      "text/html": [
       "<div>\n",
       "<style scoped>\n",
       "    .dataframe tbody tr th:only-of-type {\n",
       "        vertical-align: middle;\n",
       "    }\n",
       "\n",
       "    .dataframe tbody tr th {\n",
       "        vertical-align: top;\n",
       "    }\n",
       "\n",
       "    .dataframe thead th {\n",
       "        text-align: right;\n",
       "    }\n",
       "</style>\n",
       "<table border=\"1\" class=\"dataframe\">\n",
       "  <thead>\n",
       "    <tr style=\"text-align: right;\">\n",
       "      <th></th>\n",
       "      <th>ID</th>\n",
       "      <th>Name</th>\n",
       "      <th>Level</th>\n",
       "      <th>Gender</th>\n",
       "      <th>Age</th>\n",
       "      <th>Email</th>\n",
       "      <th>status</th>\n",
       "      <th>date</th>\n",
       "      <th>morning</th>\n",
       "      <th>afternoon</th>\n",
       "      <th>night</th>\n",
       "    </tr>\n",
       "  </thead>\n",
       "  <tbody>\n",
       "    <tr>\n",
       "      <th>0</th>\n",
       "      <td>1001</td>\n",
       "      <td>khh</td>\n",
       "      <td>3</td>\n",
       "      <td>Male</td>\n",
       "      <td>24</td>\n",
       "      <td>khh@gmail.com</td>\n",
       "      <td>International Student</td>\n",
       "      <td>2025-07-01</td>\n",
       "      <td>True</td>\n",
       "      <td>True</td>\n",
       "      <td>False</td>\n",
       "    </tr>\n",
       "    <tr>\n",
       "      <th>1</th>\n",
       "      <td>1001</td>\n",
       "      <td>khh</td>\n",
       "      <td>3</td>\n",
       "      <td>Male</td>\n",
       "      <td>24</td>\n",
       "      <td>khh@gmail.com</td>\n",
       "      <td>International Student</td>\n",
       "      <td>2025-07-02</td>\n",
       "      <td>False</td>\n",
       "      <td>True</td>\n",
       "      <td>True</td>\n",
       "    </tr>\n",
       "    <tr>\n",
       "      <th>2</th>\n",
       "      <td>1001</td>\n",
       "      <td>khh</td>\n",
       "      <td>3</td>\n",
       "      <td>Male</td>\n",
       "      <td>24</td>\n",
       "      <td>khh@gmail.com</td>\n",
       "      <td>International Student</td>\n",
       "      <td>2025-07-03</td>\n",
       "      <td>True</td>\n",
       "      <td>True</td>\n",
       "      <td>True</td>\n",
       "    </tr>\n",
       "    <tr>\n",
       "      <th>3</th>\n",
       "      <td>1001</td>\n",
       "      <td>khh</td>\n",
       "      <td>3</td>\n",
       "      <td>Male</td>\n",
       "      <td>24</td>\n",
       "      <td>khh@gmail.com</td>\n",
       "      <td>International Student</td>\n",
       "      <td>2025-07-04</td>\n",
       "      <td>False</td>\n",
       "      <td>True</td>\n",
       "      <td>False</td>\n",
       "    </tr>\n",
       "    <tr>\n",
       "      <th>4</th>\n",
       "      <td>1001</td>\n",
       "      <td>khh</td>\n",
       "      <td>3</td>\n",
       "      <td>Male</td>\n",
       "      <td>24</td>\n",
       "      <td>khh@gmail.com</td>\n",
       "      <td>International Student</td>\n",
       "      <td>2025-07-05</td>\n",
       "      <td>False</td>\n",
       "      <td>True</td>\n",
       "      <td>True</td>\n",
       "    </tr>\n",
       "  </tbody>\n",
       "</table>\n",
       "</div>"
      ],
      "text/plain": [
       "     ID Name  Level Gender  Age          Email                 status  \\\n",
       "0  1001  khh      3   Male   24  khh@gmail.com  International Student   \n",
       "1  1001  khh      3   Male   24  khh@gmail.com  International Student   \n",
       "2  1001  khh      3   Male   24  khh@gmail.com  International Student   \n",
       "3  1001  khh      3   Male   24  khh@gmail.com  International Student   \n",
       "4  1001  khh      3   Male   24  khh@gmail.com  International Student   \n",
       "\n",
       "         date  morning  afternoon  night  \n",
       "0  2025-07-01     True       True  False  \n",
       "1  2025-07-02    False       True   True  \n",
       "2  2025-07-03     True       True   True  \n",
       "3  2025-07-04    False       True  False  \n",
       "4  2025-07-05    False       True   True  "
      ]
     },
     "execution_count": 135,
     "metadata": {},
     "output_type": "execute_result"
    }
   ],
   "source": [
    "final_df.head()"
   ]
  },
  {
   "cell_type": "code",
   "execution_count": 136,
   "id": "7c769af4-5e57-4318-903d-99f68ebbfad3",
   "metadata": {},
   "outputs": [],
   "source": [
    "time_map = {\n",
    "    \"morning\": list(range(9, 13)),     \n",
    "    \"afternoon\": list(range(13, 18)),   \n",
    "    \"night\": list(range(18, 25))       \n",
    "}"
   ]
  },
  {
   "cell_type": "code",
   "execution_count": 137,
   "id": "6752eaeb-aa51-4ea4-9202-c985e9411840",
   "metadata": {},
   "outputs": [],
   "source": [
    "prob = LpProblem(\"Shift_Optimization\", LpMinimize)"
   ]
  },
  {
   "cell_type": "code",
   "execution_count": 151,
   "id": "cc78ef78-4ed5-4ab1-b2e5-270d46dd4d71",
   "metadata": {},
   "outputs": [],
   "source": [
    "shift_var = {}\n",
    "for index, row in df.iterrows():\n",
    "    for time in [\"morning\", \"afternoon\", \"night\"]:\n",
    "        if row[time] == 1:  \n",
    "            var_name = f\"x_{row[\"ID\"]}_{row['date']}_{time}\"\n",
    "            shift_var[var_name] = LpVariable(var_name, 0, 1, cat=\"Binary\")"
   ]
  },
  {
   "cell_type": "code",
   "execution_count": 152,
   "id": "830ed809-e842-4975-a81a-fe7410f2b8a7",
   "metadata": {},
   "outputs": [],
   "source": [
    "for staff_id in final_df[\"ID\"].unique():\n",
    "    for date in final_df[\"date\"].unique():\n",
    "        relevant = [var for var in shift_var if f\"{\"ID\"}_{date}\" in var]\n",
    "        prob += lpSum([shift_var[v] for v in relevant]) <= 1\n"
   ]
  },
  {
   "cell_type": "code",
   "execution_count": 153,
   "id": "0d7da268-fe78-4bec-b98f-5dad99e08556",
   "metadata": {},
   "outputs": [
    {
     "name": "stderr",
     "output_type": "stream",
     "text": [
      "/Library/Frameworks/Python.framework/Versions/3.12/lib/python3.12/site-packages/pulp/pulp.py:1831: UserWarning: Overwriting previously set objective.\n",
      "  warnings.warn(\"Overwriting previously set objective.\")\n"
     ]
    }
   ],
   "source": [
    "prob += lpSum(shift_var.values())\n"
   ]
  },
  {
   "cell_type": "code",
   "execution_count": 154,
   "id": "9fc1de99-9f9d-4b5b-9b2e-c4fc1f0523a6",
   "metadata": {},
   "outputs": [
    {
     "name": "stdout",
     "output_type": "stream",
     "text": [
      "Welcome to the CBC MILP Solver \n",
      "Version: 2.10.3 \n",
      "Build Date: Dec 15 2019 \n",
      "\n",
      "command line - /Library/Frameworks/Python.framework/Versions/3.12/lib/python3.12/site-packages/pulp/apis/../solverdir/cbc/osx/i64/cbc /var/folders/23/dxqwsqmd1w3g02ljvb96m6fm0000gn/T/fb48f807a6934eabbce72bc2e42dd7e4-pulp.mps -timeMode elapsed -branch -printingOptions all -solution /var/folders/23/dxqwsqmd1w3g02ljvb96m6fm0000gn/T/fb48f807a6934eabbce72bc2e42dd7e4-pulp.sol (default strategy 1)\n",
      "At line 2 NAME          MODEL\n",
      "At line 3 ROWS\n",
      "At line 327 COLUMNS\n",
      "At line 1870 RHS\n",
      "At line 2193 BOUNDS\n",
      "Bad image at line 2195 <  BV BND       X0000001 >\n",
      "Bad image at line 2197 <  BV BND       X0000003 >\n",
      "No match for column X0000004 at line 2198 <  BV BND       X0000004 >\n",
      "Bad image at line 2200 <  BV BND       X0000006 >\n",
      "No match for column X0000007 at line 2201 <  BV BND       X0000007 >\n",
      "Bad image at line 2203 <  BV BND       X0000009 >\n",
      "Bad image at line 2205 <  BV BND       X0000011 >\n",
      "Bad image at line 2207 <  BV BND       X0000013 >\n",
      "Bad image at line 2209 <  BV BND       X0000015 >\n",
      "Bad image at line 2211 <  BV BND       X0000017 >\n",
      "No match for column X0000018 at line 2212 <  BV BND       X0000018 >\n",
      "No match for column X0000019 at line 2213 <  BV BND       X0000019 >\n",
      "Bad image at line 2215 <  BV BND       X0000021 >\n",
      "No match for column X0000022 at line 2216 <  BV BND       X0000022 >\n",
      "Bad image at line 2218 <  BV BND       X0000024 >\n",
      "Bad image at line 2220 <  BV BND       X0000026 >\n",
      "Bad image at line 2222 <  BV BND       X0000028 >\n",
      "Bad image at line 2224 <  BV BND       X0000030 >\n",
      "Bad image at line 2226 <  BV BND       X0000032 >\n",
      "Bad image at line 2228 <  BV BND       X0000034 >\n",
      "Bad image at line 2230 <  BV BND       X0000036 >\n",
      "Bad image at line 2232 <  BV BND       X0000038 >\n",
      "Bad image at line 2234 <  BV BND       X0000040 >\n",
      "Bad image at line 2236 <  BV BND       X0000042 >\n",
      "Bad image at line 2238 <  BV BND       X0000044 >\n",
      "Bad image at line 2240 <  BV BND       X0000046 >\n",
      "No match for column X0000047 at line 2241 <  BV BND       X0000047 >\n",
      "Bad image at line 2243 <  BV BND       X0000049 >\n",
      "No match for column X0000050 at line 2244 <  BV BND       X0000050 >\n",
      "Bad image at line 2246 <  BV BND       X0000052 >\n",
      "No match for column X0000053 at line 2247 <  BV BND       X0000053 >\n",
      "No match for column X0000054 at line 2248 <  BV BND       X0000054 >\n",
      "Bad image at line 2250 <  BV BND       X0000056 >\n",
      "Bad image at line 2252 <  BV BND       X0000058 >\n",
      "Bad image at line 2254 <  BV BND       X0000060 >\n",
      "Bad image at line 2256 <  BV BND       X0000062 >\n",
      "No match for column X0000063 at line 2257 <  BV BND       X0000063 >\n",
      "No match for column X0000064 at line 2258 <  BV BND       X0000064 >\n",
      "Bad image at line 2260 <  BV BND       X0000066 >\n",
      "No match for column X0000067 at line 2261 <  BV BND       X0000067 >\n",
      "Bad image at line 2263 <  BV BND       X0000069 >\n",
      "Bad image at line 2265 <  BV BND       X0000071 >\n",
      "No match for column X0000072 at line 2266 <  BV BND       X0000072 >\n",
      "Bad image at line 2268 <  BV BND       X0000074 >\n",
      "Bad image at line 2270 <  BV BND       X0000076 >\n",
      "Bad image at line 2272 <  BV BND       X0000078 >\n",
      "No match for column X0000079 at line 2273 <  BV BND       X0000079 >\n",
      "No match for column X0000080 at line 2274 <  BV BND       X0000080 >\n",
      "Bad image at line 2276 <  BV BND       X0000082 >\n",
      "No match for column X0000083 at line 2277 <  BV BND       X0000083 >\n",
      "No match for column X0000084 at line 2278 <  BV BND       X0000084 >\n",
      "No match for column X0000085 at line 2279 <  BV BND       X0000085 >\n",
      "Bad image at line 2281 <  BV BND       X0000087 >\n",
      "No match for column X0000088 at line 2282 <  BV BND       X0000088 >\n",
      "Bad image at line 2284 <  BV BND       X0000090 >\n",
      "Bad image at line 2286 <  BV BND       X0000092 >\n",
      "Bad image at line 2288 <  BV BND       X0000094 >\n",
      "Bad image at line 2290 <  BV BND       X0000096 >\n",
      "No match for column X0000097 at line 2291 <  BV BND       X0000097 >\n",
      "No match for column X0000098 at line 2292 <  BV BND       X0000098 >\n",
      "Bad image at line 2294 <  BV BND       X0000100 >\n",
      "Bad image at line 2296 <  BV BND       X0000102 >\n",
      "No match for column X0000103 at line 2297 <  BV BND       X0000103 >\n",
      "Bad image at line 2299 <  BV BND       X0000105 >\n",
      "Bad image at line 2301 <  BV BND       X0000107 >\n",
      "Bad image at line 2303 <  BV BND       X0000109 >\n",
      "Bad image at line 2305 <  BV BND       X0000111 >\n",
      "No match for column X0000112 at line 2306 <  BV BND       X0000112 >\n",
      "No match for column X0000113 at line 2307 <  BV BND       X0000113 >\n",
      "No match for column X0000114 at line 2308 <  BV BND       X0000114 >\n",
      "Bad image at line 2310 <  BV BND       X0000116 >\n",
      "No match for column X0000117 at line 2311 <  BV BND       X0000117 >\n",
      "No match for column X0000118 at line 2312 <  BV BND       X0000118 >\n",
      "Bad image at line 2314 <  BV BND       X0000120 >\n",
      "Bad image at line 2316 <  BV BND       X0000122 >\n",
      "Bad image at line 2318 <  BV BND       X0000124 >\n",
      "Bad image at line 2320 <  BV BND       X0000126 >\n",
      "Bad image at line 2322 <  BV BND       X0000128 >\n",
      "No match for column X0000129 at line 2323 <  BV BND       X0000129 >\n",
      "Bad image at line 2325 <  BV BND       X0000131 >\n",
      "Bad image at line 2327 <  BV BND       X0000133 >\n",
      "Bad image at line 2329 <  BV BND       X0000135 >\n",
      "No match for column X0000136 at line 2330 <  BV BND       X0000136 >\n",
      "No match for column X0000137 at line 2331 <  BV BND       X0000137 >\n",
      "No match for column X0000138 at line 2332 <  BV BND       X0000138 >\n",
      "Bad image at line 2334 <  BV BND       X0000140 >\n",
      "No match for column X0000141 at line 2335 <  BV BND       X0000141 >\n",
      "Bad image at line 2337 <  BV BND       X0000143 >\n",
      "No match for column X0000144 at line 2338 <  BV BND       X0000144 >\n",
      "No match for column X0000145 at line 2339 <  BV BND       X0000145 >\n",
      "Bad image at line 2341 <  BV BND       X0000147 >\n",
      "No match for column X0000148 at line 2342 <  BV BND       X0000148 >\n",
      "Bad image at line 2344 <  BV BND       X0000150 >\n",
      "Bad image at line 2346 <  BV BND       X0000152 >\n",
      "Bad image at line 2348 <  BV BND       X0000154 >\n",
      "No match for column X0000155 at line 2349 <  BV BND       X0000155 >\n",
      "Bad image at line 2351 <  BV BND       X0000157 >\n",
      "Bad image at line 2353 <  BV BND       X0000159 >\n",
      "No match for column X0000160 at line 2354 <  BV BND       X0000160 >\n",
      "At line 2845 ENDATA\n",
      "Problem MODEL has 322 rows, 240 columns and 0 elements\n",
      "Coin0008I MODEL read with 411 errors\n",
      "There were 411 errors on input\n",
      "Option for timeMode changed from cpu to elapsed\n",
      "** Current model not valid\n",
      "Option for printingOptions changed from normal to all\n",
      "** Current model not valid\n",
      "No match for /var/folders/23/dxqwsqmd1w3g02ljvb96m6fm0000gn/T/fb48f807a6934eabbce72bc2e42dd7e4-pulp.sol - ? for list of commands\n",
      "Total time (CPU seconds):       0.00   (Wallclock seconds):       0.01\n",
      "\n"
     ]
    },
    {
     "ename": "PulpSolverError",
     "evalue": "Pulp: Error while executing /Library/Frameworks/Python.framework/Versions/3.12/lib/python3.12/site-packages/pulp/apis/../solverdir/cbc/osx/i64/cbc",
     "output_type": "error",
     "traceback": [
      "\u001b[31m---------------------------------------------------------------------------\u001b[39m",
      "\u001b[31mPulpSolverError\u001b[39m                           Traceback (most recent call last)",
      "\u001b[36mCell\u001b[39m\u001b[36m \u001b[39m\u001b[32mIn[154]\u001b[39m\u001b[32m, line 1\u001b[39m\n\u001b[32m----> \u001b[39m\u001b[32m1\u001b[39m \u001b[43mprob\u001b[49m\u001b[43m.\u001b[49m\u001b[43msolve\u001b[49m\u001b[43m(\u001b[49m\u001b[43m)\u001b[49m\n",
      "\u001b[36mFile \u001b[39m\u001b[32m/Library/Frameworks/Python.framework/Versions/3.12/lib/python3.12/site-packages/pulp/pulp.py:2058\u001b[39m, in \u001b[36mLpProblem.solve\u001b[39m\u001b[34m(self, solver, **kwargs)\u001b[39m\n\u001b[32m   2056\u001b[39m \u001b[38;5;66;03m# time it\u001b[39;00m\n\u001b[32m   2057\u001b[39m \u001b[38;5;28mself\u001b[39m.startClock()\n\u001b[32m-> \u001b[39m\u001b[32m2058\u001b[39m status = \u001b[43msolver\u001b[49m\u001b[43m.\u001b[49m\u001b[43mactualSolve\u001b[49m\u001b[43m(\u001b[49m\u001b[38;5;28;43mself\u001b[39;49m\u001b[43m,\u001b[49m\u001b[43m \u001b[49m\u001b[43m*\u001b[49m\u001b[43m*\u001b[49m\u001b[43mkwargs\u001b[49m\u001b[43m)\u001b[49m\n\u001b[32m   2059\u001b[39m \u001b[38;5;28mself\u001b[39m.stopClock()\n\u001b[32m   2060\u001b[39m \u001b[38;5;28mself\u001b[39m.restoreObjective(wasNone, dummyVar)\n",
      "\u001b[36mFile \u001b[39m\u001b[32m/Library/Frameworks/Python.framework/Versions/3.12/lib/python3.12/site-packages/pulp/apis/coin_api.py:140\u001b[39m, in \u001b[36mCOIN_CMD.actualSolve\u001b[39m\u001b[34m(self, lp, **kwargs)\u001b[39m\n\u001b[32m    138\u001b[39m \u001b[38;5;28;01mdef\u001b[39;00m\u001b[38;5;250m \u001b[39m\u001b[34mactualSolve\u001b[39m(\u001b[38;5;28mself\u001b[39m, lp: LpProblem, **kwargs):\n\u001b[32m    139\u001b[39m \u001b[38;5;250m    \u001b[39m\u001b[33;03m\"\"\"Solve a well formulated lp problem\"\"\"\u001b[39;00m\n\u001b[32m--> \u001b[39m\u001b[32m140\u001b[39m     \u001b[38;5;28;01mreturn\u001b[39;00m \u001b[38;5;28;43mself\u001b[39;49m\u001b[43m.\u001b[49m\u001b[43msolve_CBC\u001b[49m\u001b[43m(\u001b[49m\u001b[43mlp\u001b[49m\u001b[43m,\u001b[49m\u001b[43m \u001b[49m\u001b[43m*\u001b[49m\u001b[43m*\u001b[49m\u001b[43mkwargs\u001b[49m\u001b[43m)\u001b[49m\n",
      "\u001b[36mFile \u001b[39m\u001b[32m/Library/Frameworks/Python.framework/Versions/3.12/lib/python3.12/site-packages/pulp/apis/coin_api.py:231\u001b[39m, in \u001b[36mCOIN_CMD.solve_CBC\u001b[39m\u001b[34m(self, lp, use_mps)\u001b[39m\n\u001b[32m    228\u001b[39m     \u001b[38;5;28;01mpass\u001b[39;00m\n\u001b[32m    230\u001b[39m \u001b[38;5;28;01mif\u001b[39;00m \u001b[38;5;129;01mnot\u001b[39;00m os.path.exists(tmpSol):\n\u001b[32m--> \u001b[39m\u001b[32m231\u001b[39m     \u001b[38;5;28;01mraise\u001b[39;00m PulpSolverError(\u001b[33m\"\u001b[39m\u001b[33mPulp: Error while executing \u001b[39m\u001b[33m\"\u001b[39m + \u001b[38;5;28mself\u001b[39m.path)\n\u001b[32m    232\u001b[39m (\n\u001b[32m    233\u001b[39m     status,\n\u001b[32m    234\u001b[39m     values,\n\u001b[32m   (...)\u001b[39m\u001b[32m    238\u001b[39m     sol_status,\n\u001b[32m    239\u001b[39m ) = \u001b[38;5;28mself\u001b[39m.readsol_MPS(tmpSol, lp, vs, variablesNames, constraintsNames)\n\u001b[32m    240\u001b[39m lp.assignVarsVals(values)\n",
      "\u001b[31mPulpSolverError\u001b[39m: Pulp: Error while executing /Library/Frameworks/Python.framework/Versions/3.12/lib/python3.12/site-packages/pulp/apis/../solverdir/cbc/osx/i64/cbc"
     ]
    }
   ],
   "source": [
    "prob.solve()\n"
   ]
  },
  {
   "cell_type": "code",
   "execution_count": 156,
   "id": "87639e8b-a307-478f-8ea0-bcc5dd314c62",
   "metadata": {},
   "outputs": [],
   "source": [
    "results = []\n",
    "for name, var in shift_var.items():\n",
    "    if var.value() == 1:\n",
    "        parts = name.split(\"_\")\n",
    "        results.append({\"ID\": parts[1], \"date\": parts[2], \"shift\": parts[3]})\n",
    "\n",
    "result_df = pd.DataFrame(results)\n"
   ]
  },
  {
   "cell_type": "code",
   "execution_count": 157,
   "id": "6dcd6d83-4062-40da-9163-74a31fa9455a",
   "metadata": {},
   "outputs": [
    {
     "name": "stdout",
     "output_type": "stream",
     "text": [
      "Empty DataFrame\n",
      "Columns: []\n",
      "Index: []\n"
     ]
    }
   ],
   "source": [
    "print(result_df)"
   ]
  },
  {
   "cell_type": "code",
   "execution_count": null,
   "id": "3ec54f68-62e4-441d-a311-12c7cdb2c6ae",
   "metadata": {},
   "outputs": [],
   "source": [
    "\n"
   ]
  }
 ],
 "metadata": {
  "kernelspec": {
   "display_name": "Python 3 (ipykernel)",
   "language": "python",
   "name": "python3"
  },
  "language_info": {
   "codemirror_mode": {
    "name": "ipython",
    "version": 3
   },
   "file_extension": ".py",
   "mimetype": "text/x-python",
   "name": "python",
   "nbconvert_exporter": "python",
   "pygments_lexer": "ipython3",
   "version": "3.12.6"
  }
 },
 "nbformat": 4,
 "nbformat_minor": 5
}
