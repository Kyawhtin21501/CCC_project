{
 "cells": [
  {
   "cell_type": "code",
   "execution_count": 59,
   "id": "8c858025-adaa-46fb-aa0a-7140cc56564c",
   "metadata": {},
   "outputs": [],
   "source": [
    "import pulp\n",
    "import pandas as pd\n",
    "from pulp import LpMaximize, LpProblem, LpVariable"
   ]
  },
  {
   "cell_type": "code",
   "execution_count": 76,
   "id": "8b797501-0aba-4627-b93a-7226b4c2dfa1",
   "metadata": {},
   "outputs": [],
   "source": [
    "df = pd.read_csv(\"../data/shift_dataBase_testing.csv\")\n",
    "pred = [10,15,25,10,12,14,10,14,15,20,10,15,10,12]\n",
    "df.head()\n",
    "\n",
    "df[\"date\"] = pd.to_datetime(df[\"date\"], format='%Y-%m-%d')\n",
    "\n",
    "df = df.sort_values(by=\"date\")\n",
    "\n",
    "\n"
   ]
  },
  {
   "cell_type": "code",
   "execution_count": 77,
   "id": "85e6bc05-96af-4501-b0ca-36cb8c13638c",
   "metadata": {},
   "outputs": [
    {
     "data": {
      "text/plain": [
       "<DatetimeArray>\n",
       "['2025-07-01 00:00:00', '2025-07-02 00:00:00', '2025-07-03 00:00:00',\n",
       " '2025-07-04 00:00:00', '2025-07-05 00:00:00', '2025-07-06 00:00:00',\n",
       " '2025-07-07 00:00:00', '2025-07-08 00:00:00', '2025-07-09 00:00:00',\n",
       " '2025-07-10 00:00:00', '2025-07-11 00:00:00', '2025-07-12 00:00:00',\n",
       " '2025-07-13 00:00:00', '2025-07-14 00:00:00', '2025-07-15 00:00:00',\n",
       " '2025-07-16 00:00:00', '2025-07-17 00:00:00', '2025-07-18 00:00:00',\n",
       " '2025-07-19 00:00:00', '2025-07-20 00:00:00', '2025-07-21 00:00:00',\n",
       " '2025-07-22 00:00:00', '2025-07-23 00:00:00', '2025-07-24 00:00:00',\n",
       " '2025-07-25 00:00:00', '2025-07-26 00:00:00', '2025-07-27 00:00:00',\n",
       " '2025-07-28 00:00:00', '2025-07-29 00:00:00', '2025-07-30 00:00:00',\n",
       " '2025-07-31 00:00:00']\n",
       "Length: 31, dtype: datetime64[ns]"
      ]
     },
     "metadata": {},
     "output_type": "display_data"
    }
   ],
   "source": [
    "staff = df[\"name\"].unique().tolist()\n",
    "dates = df[\"date\"].unique()\n",
    "display(dates)\n"
   ]
  },
  {
   "cell_type": "code",
   "execution_count": 63,
   "id": "9bb8bf7f-178d-4703-bb5d-555421b5abf5",
   "metadata": {},
   "outputs": [
    {
     "name": "stderr",
     "output_type": "stream",
     "text": [
      "/var/folders/23/dxqwsqmd1w3g02ljvb96m6fm0000gn/T/ipykernel_59868/2921775681.py:2: FutureWarning: DataFrame.applymap has been deprecated. Use DataFrame.map instead.\n",
      "  df[[\"morning\", \"afternoon\", \"night\"]] = df[[\"morning\", \"afternoon\", \"night\"]].applymap(lambda x: 1 if x == True else 0)\n"
     ]
    }
   ],
   "source": [
    "try:\n",
    "    df[[\"morning\", \"afternoon\", \"night\"]] = df[[\"morning\", \"afternoon\", \"night\"]].applymap(lambda x: 1 if x == True else 0)\n",
    "except Exception as e:\n",
    "    print(e)\n"
   ]
  },
  {
   "cell_type": "code",
   "execution_count": 64,
   "id": "95a04698-9362-47d4-8d75-3468219cf318",
   "metadata": {},
   "outputs": [
    {
     "data": {
      "text/html": [
       "<div>\n",
       "<style scoped>\n",
       "    .dataframe tbody tr th:only-of-type {\n",
       "        vertical-align: middle;\n",
       "    }\n",
       "\n",
       "    .dataframe tbody tr th {\n",
       "        vertical-align: top;\n",
       "    }\n",
       "\n",
       "    .dataframe thead th {\n",
       "        text-align: right;\n",
       "    }\n",
       "</style>\n",
       "<table border=\"1\" class=\"dataframe\">\n",
       "  <thead>\n",
       "    <tr style=\"text-align: right;\">\n",
       "      <th></th>\n",
       "      <th>staff_id</th>\n",
       "      <th>name</th>\n",
       "      <th>date</th>\n",
       "      <th>morning</th>\n",
       "      <th>afternoon</th>\n",
       "      <th>night</th>\n",
       "    </tr>\n",
       "  </thead>\n",
       "  <tbody>\n",
       "    <tr>\n",
       "      <th>0</th>\n",
       "      <td>1001</td>\n",
       "      <td>Yan Shin Shein</td>\n",
       "      <td>2025-07-07</td>\n",
       "      <td>0</td>\n",
       "      <td>1</td>\n",
       "      <td>1</td>\n",
       "    </tr>\n",
       "    <tr>\n",
       "      <th>1</th>\n",
       "      <td>1001</td>\n",
       "      <td>Yan Shin Shein</td>\n",
       "      <td>2025-07-11</td>\n",
       "      <td>0</td>\n",
       "      <td>1</td>\n",
       "      <td>1</td>\n",
       "    </tr>\n",
       "    <tr>\n",
       "      <th>2</th>\n",
       "      <td>1001</td>\n",
       "      <td>Yan Shin Shein</td>\n",
       "      <td>2025-07-12</td>\n",
       "      <td>1</td>\n",
       "      <td>1</td>\n",
       "      <td>0</td>\n",
       "    </tr>\n",
       "    <tr>\n",
       "      <th>3</th>\n",
       "      <td>1001</td>\n",
       "      <td>Yan Shin Shein</td>\n",
       "      <td>2025-07-16</td>\n",
       "      <td>1</td>\n",
       "      <td>0</td>\n",
       "      <td>1</td>\n",
       "    </tr>\n",
       "    <tr>\n",
       "      <th>4</th>\n",
       "      <td>1001</td>\n",
       "      <td>Yan Shin Shein</td>\n",
       "      <td>2025-07-18</td>\n",
       "      <td>0</td>\n",
       "      <td>1</td>\n",
       "      <td>1</td>\n",
       "    </tr>\n",
       "  </tbody>\n",
       "</table>\n",
       "</div>"
      ],
      "text/plain": [
       "   staff_id            name       date  morning  afternoon  night\n",
       "0      1001  Yan Shin Shein 2025-07-07        0          1      1\n",
       "1      1001  Yan Shin Shein 2025-07-11        0          1      1\n",
       "2      1001  Yan Shin Shein 2025-07-12        1          1      0\n",
       "3      1001  Yan Shin Shein 2025-07-16        1          0      1\n",
       "4      1001  Yan Shin Shein 2025-07-18        0          1      1"
      ]
     },
     "execution_count": 64,
     "metadata": {},
     "output_type": "execute_result"
    }
   ],
   "source": [
    "df.head()"
   ]
  },
  {
   "cell_type": "code",
   "execution_count": null,
   "id": "ce7c2689-f617-476e-be83-c0d8d7b75ed5",
   "metadata": {},
   "outputs": [],
   "source": []
  }
 ],
 "metadata": {
  "kernelspec": {
   "display_name": "Python 3 (ipykernel)",
   "language": "python",
   "name": "python3"
  },
  "language_info": {
   "codemirror_mode": {
    "name": "ipython",
    "version": 3
   },
   "file_extension": ".py",
   "mimetype": "text/x-python",
   "name": "python",
   "nbconvert_exporter": "python",
   "pygments_lexer": "ipython3",
   "version": "3.12.6"
  }
 },
 "nbformat": 4,
 "nbformat_minor": 5
}
