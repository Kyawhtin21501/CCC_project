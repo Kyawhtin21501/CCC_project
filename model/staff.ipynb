{
 "cells": [
  {
   "cell_type": "code",
   "execution_count": 18,
   "id": "77b3c29a-a862-4956-bd67-550d255e214c",
   "metadata": {},
   "outputs": [
    {
     "data": {
      "text/plain": [
       "['staff.pkl']"
      ]
     },
     "execution_count": 18,
     "metadata": {},
     "output_type": "execute_result"
    }
   ],
   "source": [
    "import pandas as pd\n",
    "from sklearn.linear_model import LinearRegression\n",
    "import joblib  \n",
    "import numpy as np\n",
    "data = pd.read_csv(\"../data/project.csv\")\n",
    "data.dropna(subset=[\"guests\", \"total_staff_level\"], inplace=True)\n",
    "\n",
    "X = data[[\"sales\"]]\n",
    "y = data[\"total_staff_level\"]\n",
    "\n",
    "model = LinearRegression()\n",
    "model.fit(X, y)\n",
    "\n",
    "joblib.dump(model, \"staff.pkl\")\n",
    "\n"
   ]
  },
  {
   "cell_type": "code",
   "execution_count": null,
   "id": "8ac76b31-da11-4191-81ab-b47022c60d5d",
   "metadata": {},
   "outputs": [],
   "source": []
  }
 ],
 "metadata": {
  "kernelspec": {
   "display_name": "Python 3 (ipykernel)",
   "language": "python",
   "name": "python3"
  },
  "language_info": {
   "codemirror_mode": {
    "name": "ipython",
    "version": 3
   },
   "file_extension": ".py",
   "mimetype": "text/x-python",
   "name": "python",
   "nbconvert_exporter": "python",
   "pygments_lexer": "ipython3",
   "version": "3.12.6"
  }
 },
 "nbformat": 4,
 "nbformat_minor": 5
}
